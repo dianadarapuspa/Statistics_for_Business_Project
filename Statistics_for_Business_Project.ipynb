{
 "cells": [
  {
   "cell_type": "markdown",
   "id": "df2e2886",
   "metadata": {},
   "source": [
    "# Statistics for Business - Salary Regression Model"
   ]
  },
  {
   "cell_type": "markdown",
   "id": "b6fd4ef2",
   "metadata": {},
   "source": [
    "- We need to import library and function that need to run the code in this notebook to:\n",
    "  - load data\n",
    "  - doing simulation\n",
    "  - drawing graph and other visualization`"
   ]
  },
  {
   "cell_type": "markdown",
   "id": "680ce395",
   "metadata": {},
   "source": [
    "### Load Data"
   ]
  },
  {
   "cell_type": "code",
   "execution_count": 1,
   "id": "68a75d04",
   "metadata": {},
   "outputs": [],
   "source": [
    "#Load Data\n",
    "import pandas as pd\n",
    "import numpy as np\n",
    "\n",
    "# Visualization\n",
    "import matplotlib.pyplot as plt\n",
    "import seaborn as sns\n",
    "from matplotlib.gridspec import GridSpec ##CEK UNTUK APA\n",
    "\n",
    "# Modelling\n",
    "import statsmodels.formula.api as smf\n",
    "import statsmodels.api as sm\n",
    "\n",
    "# Statistics \n",
    "import scipy.stats as stats\n",
    "\n",
    "# cross validation using statsmodel prepartion\n",
    "from sklearn.base import BaseEstimator, RegressorMixin\n",
    "from sklearn.metrics import r2_score\n",
    "\n",
    "from sklearn.model_selection import cross_val_score, cross_validate, KFold"
   ]
  },
  {
   "cell_type": "markdown",
   "id": "6a09d238",
   "metadata": {},
   "source": [
    "### Function"
   ]
  },
  {
   "cell_type": "code",
   "execution_count": 2,
   "id": "7ff4a4a9",
   "metadata": {},
   "outputs": [],
   "source": [
    "def print_coef_std_err(results):\n",
    "    \"\"\"\n",
    "    Function to combine estimated coefficients and standard error in one DataFrame\n",
    "    :param results: <statsmodels RegressionResultsWrapper> OLS regression results from statsmodel\n",
    "    :return df: <pandas DataFrame>  combined estimated coefficient and standard error of model estimate\n",
    "    \"\"\"\n",
    "    coef = results.params\n",
    "    std_err = results.bse\n",
    "    \n",
    "    df = pd.DataFrame(data = np.transpose([coef, std_err]), \n",
    "                      index = coef.index, \n",
    "                      columns=[\"coef\",\"std err\"])\n",
    "    return df"
   ]
  },
  {
   "cell_type": "markdown",
   "id": "41848146",
   "metadata": {},
   "source": [
    "## 1. Persiapan Data"
   ]
  },
  {
   "cell_type": "code",
   "execution_count": 3,
   "id": "de00df58",
   "metadata": {},
   "outputs": [
    {
     "data": {
      "text/html": [
       "<div>\n",
       "<style scoped>\n",
       "    .dataframe tbody tr th:only-of-type {\n",
       "        vertical-align: middle;\n",
       "    }\n",
       "\n",
       "    .dataframe tbody tr th {\n",
       "        vertical-align: top;\n",
       "    }\n",
       "\n",
       "    .dataframe thead th {\n",
       "        text-align: right;\n",
       "    }\n",
       "</style>\n",
       "<table border=\"1\" class=\"dataframe\">\n",
       "  <thead>\n",
       "    <tr style=\"text-align: right;\">\n",
       "      <th></th>\n",
       "      <th>Age</th>\n",
       "      <th>Gender</th>\n",
       "      <th>Education_level</th>\n",
       "      <th>Job Title</th>\n",
       "      <th>Years_of_Experience</th>\n",
       "      <th>Salary</th>\n",
       "    </tr>\n",
       "  </thead>\n",
       "  <tbody>\n",
       "    <tr>\n",
       "      <th>0</th>\n",
       "      <td>32.0</td>\n",
       "      <td>Male</td>\n",
       "      <td>Bachelor's</td>\n",
       "      <td>Software Engineer</td>\n",
       "      <td>5.0</td>\n",
       "      <td>90000.0</td>\n",
       "    </tr>\n",
       "    <tr>\n",
       "      <th>1</th>\n",
       "      <td>28.0</td>\n",
       "      <td>Female</td>\n",
       "      <td>Master's</td>\n",
       "      <td>Data Analyst</td>\n",
       "      <td>3.0</td>\n",
       "      <td>65000.0</td>\n",
       "    </tr>\n",
       "    <tr>\n",
       "      <th>2</th>\n",
       "      <td>45.0</td>\n",
       "      <td>Male</td>\n",
       "      <td>PhD</td>\n",
       "      <td>Senior Manager</td>\n",
       "      <td>15.0</td>\n",
       "      <td>150000.0</td>\n",
       "    </tr>\n",
       "    <tr>\n",
       "      <th>3</th>\n",
       "      <td>36.0</td>\n",
       "      <td>Female</td>\n",
       "      <td>Bachelor's</td>\n",
       "      <td>Sales Associate</td>\n",
       "      <td>7.0</td>\n",
       "      <td>60000.0</td>\n",
       "    </tr>\n",
       "    <tr>\n",
       "      <th>4</th>\n",
       "      <td>52.0</td>\n",
       "      <td>Male</td>\n",
       "      <td>Master's</td>\n",
       "      <td>Director</td>\n",
       "      <td>20.0</td>\n",
       "      <td>200000.0</td>\n",
       "    </tr>\n",
       "    <tr>\n",
       "      <th>...</th>\n",
       "      <td>...</td>\n",
       "      <td>...</td>\n",
       "      <td>...</td>\n",
       "      <td>...</td>\n",
       "      <td>...</td>\n",
       "      <td>...</td>\n",
       "    </tr>\n",
       "    <tr>\n",
       "      <th>370</th>\n",
       "      <td>35.0</td>\n",
       "      <td>Female</td>\n",
       "      <td>Bachelor's</td>\n",
       "      <td>Senior Marketing Analyst</td>\n",
       "      <td>8.0</td>\n",
       "      <td>85000.0</td>\n",
       "    </tr>\n",
       "    <tr>\n",
       "      <th>371</th>\n",
       "      <td>43.0</td>\n",
       "      <td>Male</td>\n",
       "      <td>Master's</td>\n",
       "      <td>Director of Operations</td>\n",
       "      <td>19.0</td>\n",
       "      <td>170000.0</td>\n",
       "    </tr>\n",
       "    <tr>\n",
       "      <th>372</th>\n",
       "      <td>29.0</td>\n",
       "      <td>Female</td>\n",
       "      <td>Bachelor's</td>\n",
       "      <td>Junior Project Manager</td>\n",
       "      <td>2.0</td>\n",
       "      <td>40000.0</td>\n",
       "    </tr>\n",
       "    <tr>\n",
       "      <th>373</th>\n",
       "      <td>34.0</td>\n",
       "      <td>Male</td>\n",
       "      <td>Bachelor's</td>\n",
       "      <td>Senior Operations Coordinator</td>\n",
       "      <td>7.0</td>\n",
       "      <td>90000.0</td>\n",
       "    </tr>\n",
       "    <tr>\n",
       "      <th>374</th>\n",
       "      <td>44.0</td>\n",
       "      <td>Female</td>\n",
       "      <td>PhD</td>\n",
       "      <td>Senior Business Analyst</td>\n",
       "      <td>15.0</td>\n",
       "      <td>150000.0</td>\n",
       "    </tr>\n",
       "  </tbody>\n",
       "</table>\n",
       "<p>375 rows × 6 columns</p>\n",
       "</div>"
      ],
      "text/plain": [
       "      Age  Gender Education_level                      Job Title  \\\n",
       "0    32.0    Male      Bachelor's              Software Engineer   \n",
       "1    28.0  Female        Master's                   Data Analyst   \n",
       "2    45.0    Male             PhD                 Senior Manager   \n",
       "3    36.0  Female      Bachelor's                Sales Associate   \n",
       "4    52.0    Male        Master's                       Director   \n",
       "..    ...     ...             ...                            ...   \n",
       "370  35.0  Female      Bachelor's       Senior Marketing Analyst   \n",
       "371  43.0    Male        Master's         Director of Operations   \n",
       "372  29.0  Female      Bachelor's         Junior Project Manager   \n",
       "373  34.0    Male      Bachelor's  Senior Operations Coordinator   \n",
       "374  44.0  Female             PhD        Senior Business Analyst   \n",
       "\n",
       "     Years_of_Experience    Salary  \n",
       "0                    5.0   90000.0  \n",
       "1                    3.0   65000.0  \n",
       "2                   15.0  150000.0  \n",
       "3                    7.0   60000.0  \n",
       "4                   20.0  200000.0  \n",
       "..                   ...       ...  \n",
       "370                  8.0   85000.0  \n",
       "371                 19.0  170000.0  \n",
       "372                  2.0   40000.0  \n",
       "373                  7.0   90000.0  \n",
       "374                 15.0  150000.0  \n",
       "\n",
       "[375 rows x 6 columns]"
      ]
     },
     "execution_count": 3,
     "metadata": {},
     "output_type": "execute_result"
    }
   ],
   "source": [
    "df_salary = pd.read_csv(\"Salary_Data.csv\")\n",
    "df_salary.rename(columns={\"Education Level\" : \"Education_level\", \"Years of Experience\" : \"Years_of_Experience\"}, inplace = True)\n",
    "df_salary"
   ]
  },
  {
   "cell_type": "code",
   "execution_count": 4,
   "id": "ea7c38af",
   "metadata": {},
   "outputs": [
    {
     "data": {
      "text/plain": [
       "(375, 6)"
      ]
     },
     "execution_count": 4,
     "metadata": {},
     "output_type": "execute_result"
    }
   ],
   "source": [
    "df_salary.shape"
   ]
  },
  {
   "cell_type": "markdown",
   "id": "f7549613",
   "metadata": {},
   "source": [
    "### 1.1 Handling Missing Value"
   ]
  },
  {
   "cell_type": "code",
   "execution_count": 5,
   "id": "b324b487",
   "metadata": {},
   "outputs": [
    {
     "data": {
      "text/plain": [
       "Age                    2\n",
       "Gender                 2\n",
       "Education_level        2\n",
       "Job Title              2\n",
       "Years_of_Experience    2\n",
       "Salary                 2\n",
       "dtype: int64"
      ]
     },
     "execution_count": 5,
     "metadata": {},
     "output_type": "execute_result"
    }
   ],
   "source": [
    "df_salary.isna().sum()"
   ]
  },
  {
   "cell_type": "code",
   "execution_count": 6,
   "id": "dadb3e01",
   "metadata": {},
   "outputs": [
    {
     "data": {
      "text/html": [
       "<div>\n",
       "<style scoped>\n",
       "    .dataframe tbody tr th:only-of-type {\n",
       "        vertical-align: middle;\n",
       "    }\n",
       "\n",
       "    .dataframe tbody tr th {\n",
       "        vertical-align: top;\n",
       "    }\n",
       "\n",
       "    .dataframe thead th {\n",
       "        text-align: right;\n",
       "    }\n",
       "</style>\n",
       "<table border=\"1\" class=\"dataframe\">\n",
       "  <thead>\n",
       "    <tr style=\"text-align: right;\">\n",
       "      <th></th>\n",
       "      <th>Age</th>\n",
       "      <th>Gender</th>\n",
       "      <th>Education_level</th>\n",
       "      <th>Job Title</th>\n",
       "      <th>Years_of_Experience</th>\n",
       "      <th>Salary</th>\n",
       "    </tr>\n",
       "  </thead>\n",
       "  <tbody>\n",
       "    <tr>\n",
       "      <th>172</th>\n",
       "      <td>NaN</td>\n",
       "      <td>NaN</td>\n",
       "      <td>NaN</td>\n",
       "      <td>NaN</td>\n",
       "      <td>NaN</td>\n",
       "      <td>NaN</td>\n",
       "    </tr>\n",
       "    <tr>\n",
       "      <th>260</th>\n",
       "      <td>NaN</td>\n",
       "      <td>NaN</td>\n",
       "      <td>NaN</td>\n",
       "      <td>NaN</td>\n",
       "      <td>NaN</td>\n",
       "      <td>NaN</td>\n",
       "    </tr>\n",
       "  </tbody>\n",
       "</table>\n",
       "</div>"
      ],
      "text/plain": [
       "     Age Gender Education_level Job Title  Years_of_Experience  Salary\n",
       "172  NaN    NaN             NaN       NaN                  NaN     NaN\n",
       "260  NaN    NaN             NaN       NaN                  NaN     NaN"
      ]
     },
     "execution_count": 6,
     "metadata": {},
     "output_type": "execute_result"
    }
   ],
   "source": [
    "df_salary[df_salary[\"Years_of_Experience\"].isna()]"
   ]
  },
  {
   "cell_type": "markdown",
   "id": "8c4991c7",
   "metadata": {},
   "source": [
    "**Menghapus missing value**"
   ]
  },
  {
   "cell_type": "code",
   "execution_count": 7,
   "id": "a01c61b1",
   "metadata": {},
   "outputs": [],
   "source": [
    "df_salary = df_salary.dropna()"
   ]
  },
  {
   "cell_type": "code",
   "execution_count": 8,
   "id": "7d2c21b0",
   "metadata": {},
   "outputs": [
    {
     "data": {
      "text/plain": [
       "Age                    0\n",
       "Gender                 0\n",
       "Education_level        0\n",
       "Job Title              0\n",
       "Years_of_Experience    0\n",
       "Salary                 0\n",
       "dtype: int64"
      ]
     },
     "execution_count": 8,
     "metadata": {},
     "output_type": "execute_result"
    }
   ],
   "source": [
    "df_salary.isna().sum()"
   ]
  },
  {
   "cell_type": "markdown",
   "id": "69ea8d6f",
   "metadata": {},
   "source": [
    "### 1.2 Handling Duplicated Data"
   ]
  },
  {
   "cell_type": "code",
   "execution_count": 9,
   "id": "ba0a0a40",
   "metadata": {},
   "outputs": [
    {
     "data": {
      "text/plain": [
       "49"
      ]
     },
     "execution_count": 9,
     "metadata": {},
     "output_type": "execute_result"
    }
   ],
   "source": [
    "df_salary.duplicated().sum()"
   ]
  },
  {
   "cell_type": "code",
   "execution_count": 10,
   "id": "8d09e551",
   "metadata": {},
   "outputs": [
    {
     "data": {
      "text/html": [
       "<div>\n",
       "<style scoped>\n",
       "    .dataframe tbody tr th:only-of-type {\n",
       "        vertical-align: middle;\n",
       "    }\n",
       "\n",
       "    .dataframe tbody tr th {\n",
       "        vertical-align: top;\n",
       "    }\n",
       "\n",
       "    .dataframe thead th {\n",
       "        text-align: right;\n",
       "    }\n",
       "</style>\n",
       "<table border=\"1\" class=\"dataframe\">\n",
       "  <thead>\n",
       "    <tr style=\"text-align: right;\">\n",
       "      <th></th>\n",
       "      <th>Age</th>\n",
       "      <th>Gender</th>\n",
       "      <th>Education_level</th>\n",
       "      <th>Job Title</th>\n",
       "      <th>Years_of_Experience</th>\n",
       "      <th>Salary</th>\n",
       "    </tr>\n",
       "  </thead>\n",
       "  <tbody>\n",
       "    <tr>\n",
       "      <th>140</th>\n",
       "      <td>28.0</td>\n",
       "      <td>Male</td>\n",
       "      <td>Bachelor's</td>\n",
       "      <td>Junior Business Analyst</td>\n",
       "      <td>2.0</td>\n",
       "      <td>40000.0</td>\n",
       "    </tr>\n",
       "    <tr>\n",
       "      <th>195</th>\n",
       "      <td>28.0</td>\n",
       "      <td>Male</td>\n",
       "      <td>Bachelor's</td>\n",
       "      <td>Junior Business Analyst</td>\n",
       "      <td>2.0</td>\n",
       "      <td>40000.0</td>\n",
       "    </tr>\n",
       "    <tr>\n",
       "      <th>209</th>\n",
       "      <td>30.0</td>\n",
       "      <td>Female</td>\n",
       "      <td>Bachelor's</td>\n",
       "      <td>Junior Marketing Coordinator</td>\n",
       "      <td>2.0</td>\n",
       "      <td>40000.0</td>\n",
       "    </tr>\n",
       "    <tr>\n",
       "      <th>210</th>\n",
       "      <td>38.0</td>\n",
       "      <td>Male</td>\n",
       "      <td>Master's</td>\n",
       "      <td>Senior IT Consultant</td>\n",
       "      <td>9.0</td>\n",
       "      <td>110000.0</td>\n",
       "    </tr>\n",
       "    <tr>\n",
       "      <th>211</th>\n",
       "      <td>45.0</td>\n",
       "      <td>Female</td>\n",
       "      <td>PhD</td>\n",
       "      <td>Senior Product Designer</td>\n",
       "      <td>15.0</td>\n",
       "      <td>150000.0</td>\n",
       "    </tr>\n",
       "    <tr>\n",
       "      <th>...</th>\n",
       "      <td>...</td>\n",
       "      <td>...</td>\n",
       "      <td>...</td>\n",
       "      <td>...</td>\n",
       "      <td>...</td>\n",
       "      <td>...</td>\n",
       "    </tr>\n",
       "    <tr>\n",
       "      <th>369</th>\n",
       "      <td>33.0</td>\n",
       "      <td>Male</td>\n",
       "      <td>Bachelor's</td>\n",
       "      <td>Junior Business Analyst</td>\n",
       "      <td>4.0</td>\n",
       "      <td>60000.0</td>\n",
       "    </tr>\n",
       "    <tr>\n",
       "      <th>370</th>\n",
       "      <td>35.0</td>\n",
       "      <td>Female</td>\n",
       "      <td>Bachelor's</td>\n",
       "      <td>Senior Marketing Analyst</td>\n",
       "      <td>8.0</td>\n",
       "      <td>85000.0</td>\n",
       "    </tr>\n",
       "    <tr>\n",
       "      <th>372</th>\n",
       "      <td>29.0</td>\n",
       "      <td>Female</td>\n",
       "      <td>Bachelor's</td>\n",
       "      <td>Junior Project Manager</td>\n",
       "      <td>2.0</td>\n",
       "      <td>40000.0</td>\n",
       "    </tr>\n",
       "    <tr>\n",
       "      <th>373</th>\n",
       "      <td>34.0</td>\n",
       "      <td>Male</td>\n",
       "      <td>Bachelor's</td>\n",
       "      <td>Senior Operations Coordinator</td>\n",
       "      <td>7.0</td>\n",
       "      <td>90000.0</td>\n",
       "    </tr>\n",
       "    <tr>\n",
       "      <th>374</th>\n",
       "      <td>44.0</td>\n",
       "      <td>Female</td>\n",
       "      <td>PhD</td>\n",
       "      <td>Senior Business Analyst</td>\n",
       "      <td>15.0</td>\n",
       "      <td>150000.0</td>\n",
       "    </tr>\n",
       "  </tbody>\n",
       "</table>\n",
       "<p>88 rows × 6 columns</p>\n",
       "</div>"
      ],
      "text/plain": [
       "      Age  Gender Education_level                      Job Title  \\\n",
       "140  28.0    Male      Bachelor's        Junior Business Analyst   \n",
       "195  28.0    Male      Bachelor's        Junior Business Analyst   \n",
       "209  30.0  Female      Bachelor's   Junior Marketing Coordinator   \n",
       "210  38.0    Male        Master's           Senior IT Consultant   \n",
       "211  45.0  Female             PhD        Senior Product Designer   \n",
       "..    ...     ...             ...                            ...   \n",
       "369  33.0    Male      Bachelor's        Junior Business Analyst   \n",
       "370  35.0  Female      Bachelor's       Senior Marketing Analyst   \n",
       "372  29.0  Female      Bachelor's         Junior Project Manager   \n",
       "373  34.0    Male      Bachelor's  Senior Operations Coordinator   \n",
       "374  44.0  Female             PhD        Senior Business Analyst   \n",
       "\n",
       "     Years_of_Experience    Salary  \n",
       "140                  2.0   40000.0  \n",
       "195                  2.0   40000.0  \n",
       "209                  2.0   40000.0  \n",
       "210                  9.0  110000.0  \n",
       "211                 15.0  150000.0  \n",
       "..                   ...       ...  \n",
       "369                  4.0   60000.0  \n",
       "370                  8.0   85000.0  \n",
       "372                  2.0   40000.0  \n",
       "373                  7.0   90000.0  \n",
       "374                 15.0  150000.0  \n",
       "\n",
       "[88 rows x 6 columns]"
      ]
     },
     "execution_count": 10,
     "metadata": {},
     "output_type": "execute_result"
    }
   ],
   "source": [
    "df_salary[df_salary.duplicated(keep=False)]"
   ]
  },
  {
   "cell_type": "markdown",
   "id": "c5acc04c",
   "metadata": {},
   "source": [
    "**Menghapus duplicated data**"
   ]
  },
  {
   "cell_type": "code",
   "execution_count": 11,
   "id": "a499b93d",
   "metadata": {},
   "outputs": [
    {
     "data": {
      "text/plain": [
       "0"
      ]
     },
     "execution_count": 11,
     "metadata": {},
     "output_type": "execute_result"
    }
   ],
   "source": [
    "df_salary = df_salary.drop_duplicates(keep=\"first\")\n",
    "df_salary.duplicated().sum()"
   ]
  },
  {
   "cell_type": "code",
   "execution_count": 12,
   "id": "78c2e814",
   "metadata": {},
   "outputs": [
    {
     "data": {
      "text/plain": [
       "(324, 6)"
      ]
     },
     "execution_count": 12,
     "metadata": {},
     "output_type": "execute_result"
    }
   ],
   "source": [
    "df_salary.shape"
   ]
  },
  {
   "cell_type": "code",
   "execution_count": 13,
   "id": "699e0fdd",
   "metadata": {},
   "outputs": [
    {
     "data": {
      "text/html": [
       "<div>\n",
       "<style scoped>\n",
       "    .dataframe tbody tr th:only-of-type {\n",
       "        vertical-align: middle;\n",
       "    }\n",
       "\n",
       "    .dataframe tbody tr th {\n",
       "        vertical-align: top;\n",
       "    }\n",
       "\n",
       "    .dataframe thead th {\n",
       "        text-align: right;\n",
       "    }\n",
       "</style>\n",
       "<table border=\"1\" class=\"dataframe\">\n",
       "  <thead>\n",
       "    <tr style=\"text-align: right;\">\n",
       "      <th></th>\n",
       "      <th>Age</th>\n",
       "      <th>Gender</th>\n",
       "      <th>Education_level</th>\n",
       "      <th>Job Title</th>\n",
       "      <th>Years_of_Experience</th>\n",
       "      <th>Salary</th>\n",
       "    </tr>\n",
       "  </thead>\n",
       "  <tbody>\n",
       "    <tr>\n",
       "      <th>0</th>\n",
       "      <td>32.0</td>\n",
       "      <td>Male</td>\n",
       "      <td>Bachelor's</td>\n",
       "      <td>Software Engineer</td>\n",
       "      <td>5.0</td>\n",
       "      <td>90000.0</td>\n",
       "    </tr>\n",
       "    <tr>\n",
       "      <th>1</th>\n",
       "      <td>28.0</td>\n",
       "      <td>Female</td>\n",
       "      <td>Master's</td>\n",
       "      <td>Data Analyst</td>\n",
       "      <td>3.0</td>\n",
       "      <td>65000.0</td>\n",
       "    </tr>\n",
       "    <tr>\n",
       "      <th>2</th>\n",
       "      <td>45.0</td>\n",
       "      <td>Male</td>\n",
       "      <td>PhD</td>\n",
       "      <td>Senior Manager</td>\n",
       "      <td>15.0</td>\n",
       "      <td>150000.0</td>\n",
       "    </tr>\n",
       "    <tr>\n",
       "      <th>3</th>\n",
       "      <td>36.0</td>\n",
       "      <td>Female</td>\n",
       "      <td>Bachelor's</td>\n",
       "      <td>Sales Associate</td>\n",
       "      <td>7.0</td>\n",
       "      <td>60000.0</td>\n",
       "    </tr>\n",
       "    <tr>\n",
       "      <th>4</th>\n",
       "      <td>52.0</td>\n",
       "      <td>Male</td>\n",
       "      <td>Master's</td>\n",
       "      <td>Director</td>\n",
       "      <td>20.0</td>\n",
       "      <td>200000.0</td>\n",
       "    </tr>\n",
       "    <tr>\n",
       "      <th>...</th>\n",
       "      <td>...</td>\n",
       "      <td>...</td>\n",
       "      <td>...</td>\n",
       "      <td>...</td>\n",
       "      <td>...</td>\n",
       "      <td>...</td>\n",
       "    </tr>\n",
       "    <tr>\n",
       "      <th>348</th>\n",
       "      <td>28.0</td>\n",
       "      <td>Female</td>\n",
       "      <td>Bachelor's</td>\n",
       "      <td>Junior Operations Manager</td>\n",
       "      <td>1.0</td>\n",
       "      <td>35000.0</td>\n",
       "    </tr>\n",
       "    <tr>\n",
       "      <th>349</th>\n",
       "      <td>36.0</td>\n",
       "      <td>Male</td>\n",
       "      <td>Bachelor's</td>\n",
       "      <td>Senior Business Development Manager</td>\n",
       "      <td>8.0</td>\n",
       "      <td>110000.0</td>\n",
       "    </tr>\n",
       "    <tr>\n",
       "      <th>350</th>\n",
       "      <td>44.0</td>\n",
       "      <td>Female</td>\n",
       "      <td>PhD</td>\n",
       "      <td>Senior Data Scientist</td>\n",
       "      <td>16.0</td>\n",
       "      <td>160000.0</td>\n",
       "    </tr>\n",
       "    <tr>\n",
       "      <th>351</th>\n",
       "      <td>31.0</td>\n",
       "      <td>Male</td>\n",
       "      <td>Bachelor's</td>\n",
       "      <td>Junior Marketing Coordinator</td>\n",
       "      <td>3.0</td>\n",
       "      <td>55000.0</td>\n",
       "    </tr>\n",
       "    <tr>\n",
       "      <th>371</th>\n",
       "      <td>43.0</td>\n",
       "      <td>Male</td>\n",
       "      <td>Master's</td>\n",
       "      <td>Director of Operations</td>\n",
       "      <td>19.0</td>\n",
       "      <td>170000.0</td>\n",
       "    </tr>\n",
       "  </tbody>\n",
       "</table>\n",
       "<p>324 rows × 6 columns</p>\n",
       "</div>"
      ],
      "text/plain": [
       "      Age  Gender Education_level                            Job Title  \\\n",
       "0    32.0    Male      Bachelor's                    Software Engineer   \n",
       "1    28.0  Female        Master's                         Data Analyst   \n",
       "2    45.0    Male             PhD                       Senior Manager   \n",
       "3    36.0  Female      Bachelor's                      Sales Associate   \n",
       "4    52.0    Male        Master's                             Director   \n",
       "..    ...     ...             ...                                  ...   \n",
       "348  28.0  Female      Bachelor's            Junior Operations Manager   \n",
       "349  36.0    Male      Bachelor's  Senior Business Development Manager   \n",
       "350  44.0  Female             PhD                Senior Data Scientist   \n",
       "351  31.0    Male      Bachelor's         Junior Marketing Coordinator   \n",
       "371  43.0    Male        Master's               Director of Operations   \n",
       "\n",
       "     Years_of_Experience    Salary  \n",
       "0                    5.0   90000.0  \n",
       "1                    3.0   65000.0  \n",
       "2                   15.0  150000.0  \n",
       "3                    7.0   60000.0  \n",
       "4                   20.0  200000.0  \n",
       "..                   ...       ...  \n",
       "348                  1.0   35000.0  \n",
       "349                  8.0  110000.0  \n",
       "350                 16.0  160000.0  \n",
       "351                  3.0   55000.0  \n",
       "371                 19.0  170000.0  \n",
       "\n",
       "[324 rows x 6 columns]"
      ]
     },
     "execution_count": 13,
     "metadata": {},
     "output_type": "execute_result"
    }
   ],
   "source": [
    "df_salary"
   ]
  },
  {
   "cell_type": "markdown",
   "id": "be3dc247",
   "metadata": {},
   "source": [
    "## 2. Deskripsi Statistik Data"
   ]
  },
  {
   "cell_type": "code",
   "execution_count": 14,
   "id": "3f8733db",
   "metadata": {},
   "outputs": [
    {
     "data": {
      "text/html": [
       "<div>\n",
       "<style scoped>\n",
       "    .dataframe tbody tr th:only-of-type {\n",
       "        vertical-align: middle;\n",
       "    }\n",
       "\n",
       "    .dataframe tbody tr th {\n",
       "        vertical-align: top;\n",
       "    }\n",
       "\n",
       "    .dataframe thead th {\n",
       "        text-align: right;\n",
       "    }\n",
       "</style>\n",
       "<table border=\"1\" class=\"dataframe\">\n",
       "  <thead>\n",
       "    <tr style=\"text-align: right;\">\n",
       "      <th></th>\n",
       "      <th>Age</th>\n",
       "      <th>Years_of_Experience</th>\n",
       "      <th>Salary</th>\n",
       "    </tr>\n",
       "  </thead>\n",
       "  <tbody>\n",
       "    <tr>\n",
       "      <th>count</th>\n",
       "      <td>324.000000</td>\n",
       "      <td>324.000000</td>\n",
       "      <td>324.000000</td>\n",
       "    </tr>\n",
       "    <tr>\n",
       "      <th>mean</th>\n",
       "      <td>37.382716</td>\n",
       "      <td>10.058642</td>\n",
       "      <td>99985.648148</td>\n",
       "    </tr>\n",
       "    <tr>\n",
       "      <th>std</th>\n",
       "      <td>7.185844</td>\n",
       "      <td>6.650470</td>\n",
       "      <td>48652.271440</td>\n",
       "    </tr>\n",
       "    <tr>\n",
       "      <th>min</th>\n",
       "      <td>23.000000</td>\n",
       "      <td>0.000000</td>\n",
       "      <td>350.000000</td>\n",
       "    </tr>\n",
       "    <tr>\n",
       "      <th>25%</th>\n",
       "      <td>31.000000</td>\n",
       "      <td>4.000000</td>\n",
       "      <td>55000.000000</td>\n",
       "    </tr>\n",
       "    <tr>\n",
       "      <th>50%</th>\n",
       "      <td>36.500000</td>\n",
       "      <td>9.000000</td>\n",
       "      <td>95000.000000</td>\n",
       "    </tr>\n",
       "    <tr>\n",
       "      <th>75%</th>\n",
       "      <td>44.000000</td>\n",
       "      <td>16.000000</td>\n",
       "      <td>140000.000000</td>\n",
       "    </tr>\n",
       "    <tr>\n",
       "      <th>max</th>\n",
       "      <td>53.000000</td>\n",
       "      <td>25.000000</td>\n",
       "      <td>250000.000000</td>\n",
       "    </tr>\n",
       "  </tbody>\n",
       "</table>\n",
       "</div>"
      ],
      "text/plain": [
       "              Age  Years_of_Experience         Salary\n",
       "count  324.000000           324.000000     324.000000\n",
       "mean    37.382716            10.058642   99985.648148\n",
       "std      7.185844             6.650470   48652.271440\n",
       "min     23.000000             0.000000     350.000000\n",
       "25%     31.000000             4.000000   55000.000000\n",
       "50%     36.500000             9.000000   95000.000000\n",
       "75%     44.000000            16.000000  140000.000000\n",
       "max     53.000000            25.000000  250000.000000"
      ]
     },
     "execution_count": 14,
     "metadata": {},
     "output_type": "execute_result"
    }
   ],
   "source": [
    "df_salary.describe()"
   ]
  },
  {
   "cell_type": "code",
   "execution_count": 15,
   "id": "1644a344",
   "metadata": {},
   "outputs": [
    {
     "data": {
      "text/plain": [
       "Gender\n",
       "Male      170\n",
       "Female    154\n",
       "Name: count, dtype: int64"
      ]
     },
     "execution_count": 15,
     "metadata": {},
     "output_type": "execute_result"
    }
   ],
   "source": [
    "df_salary[\"Gender\"].value_counts()"
   ]
  },
  {
   "cell_type": "code",
   "execution_count": 16,
   "id": "c77fa959",
   "metadata": {},
   "outputs": [
    {
     "data": {
      "text/plain": [
       "Education_level\n",
       "Bachelor's    191\n",
       "Master's       91\n",
       "PhD            42\n",
       "Name: count, dtype: int64"
      ]
     },
     "execution_count": 16,
     "metadata": {},
     "output_type": "execute_result"
    }
   ],
   "source": [
    "df_salary[\"Education_level\"].value_counts()"
   ]
  },
  {
   "cell_type": "code",
   "execution_count": 17,
   "id": "d5791035",
   "metadata": {},
   "outputs": [
    {
     "name": "stdout",
     "output_type": "stream",
     "text": [
      "<class 'pandas.core.frame.DataFrame'>\n",
      "Index: 324 entries, 0 to 371\n",
      "Data columns (total 6 columns):\n",
      " #   Column               Non-Null Count  Dtype  \n",
      "---  ------               --------------  -----  \n",
      " 0   Age                  324 non-null    float64\n",
      " 1   Gender               324 non-null    object \n",
      " 2   Education_level      324 non-null    object \n",
      " 3   Job Title            324 non-null    object \n",
      " 4   Years_of_Experience  324 non-null    float64\n",
      " 5   Salary               324 non-null    float64\n",
      "dtypes: float64(3), object(3)\n",
      "memory usage: 17.7+ KB\n"
     ]
    }
   ],
   "source": [
    "df_salary.info()"
   ]
  },
  {
   "cell_type": "markdown",
   "id": "9f617840",
   "metadata": {},
   "source": [
    "### 2.1 Correlation in Numerical Variable"
   ]
  },
  {
   "cell_type": "code",
   "execution_count": 18,
   "id": "bfe5d9ca",
   "metadata": {},
   "outputs": [
    {
     "data": {
      "text/html": [
       "<div>\n",
       "<style scoped>\n",
       "    .dataframe tbody tr th:only-of-type {\n",
       "        vertical-align: middle;\n",
       "    }\n",
       "\n",
       "    .dataframe tbody tr th {\n",
       "        vertical-align: top;\n",
       "    }\n",
       "\n",
       "    .dataframe thead th {\n",
       "        text-align: right;\n",
       "    }\n",
       "</style>\n",
       "<table border=\"1\" class=\"dataframe\">\n",
       "  <thead>\n",
       "    <tr style=\"text-align: right;\">\n",
       "      <th></th>\n",
       "      <th>Age</th>\n",
       "      <th>Years_of_Experience</th>\n",
       "      <th>Salary</th>\n",
       "    </tr>\n",
       "  </thead>\n",
       "  <tbody>\n",
       "    <tr>\n",
       "      <th>Age</th>\n",
       "      <td>1.000000</td>\n",
       "      <td>0.979192</td>\n",
       "      <td>0.916543</td>\n",
       "    </tr>\n",
       "    <tr>\n",
       "      <th>Years_of_Experience</th>\n",
       "      <td>0.979192</td>\n",
       "      <td>1.000000</td>\n",
       "      <td>0.924455</td>\n",
       "    </tr>\n",
       "    <tr>\n",
       "      <th>Salary</th>\n",
       "      <td>0.916543</td>\n",
       "      <td>0.924455</td>\n",
       "      <td>1.000000</td>\n",
       "    </tr>\n",
       "  </tbody>\n",
       "</table>\n",
       "</div>"
      ],
      "text/plain": [
       "                          Age  Years_of_Experience    Salary\n",
       "Age                  1.000000             0.979192  0.916543\n",
       "Years_of_Experience  0.979192             1.000000  0.924455\n",
       "Salary               0.916543             0.924455  1.000000"
      ]
     },
     "execution_count": 18,
     "metadata": {},
     "output_type": "execute_result"
    }
   ],
   "source": [
    "df_salary[[\"Age\", \"Years_of_Experience\", \"Salary\"]].corr()"
   ]
  },
  {
   "cell_type": "markdown",
   "id": "1471695f",
   "metadata": {},
   "source": [
    "Korelasi antara Age, Years_of_Experience, dan Salary memiliki hasil positive dan berkorelasi kuat"
   ]
  },
  {
   "cell_type": "markdown",
   "id": "73c1c6ed",
   "metadata": {},
   "source": [
    "### 2.2 Average Salary in each Categorical Variable"
   ]
  },
  {
   "cell_type": "markdown",
   "id": "a575e8fc",
   "metadata": {},
   "source": [
    "**Perbandingan Salary based on Gender**"
   ]
  },
  {
   "cell_type": "code",
   "execution_count": 19,
   "id": "c6bcbb57",
   "metadata": {},
   "outputs": [
    {
     "data": {
      "text/plain": [
       "Gender\n",
       "Female     96136.363636\n",
       "Male      103472.647059\n",
       "Name: Salary, dtype: float64"
      ]
     },
     "execution_count": 19,
     "metadata": {},
     "output_type": "execute_result"
    }
   ],
   "source": [
    "df_salary.groupby(\"Gender\")[\"Salary\"].mean()"
   ]
  },
  {
   "cell_type": "markdown",
   "id": "7411e09e",
   "metadata": {},
   "source": [
    "Rata-rata gaji laki-laki lebih tinggi dari rata-rata gaji perempuan"
   ]
  },
  {
   "cell_type": "markdown",
   "id": "b3bf8da5",
   "metadata": {},
   "source": [
    "**Perbandingan Salary based on Education Level**"
   ]
  },
  {
   "cell_type": "code",
   "execution_count": 20,
   "id": "74ff13ed",
   "metadata": {},
   "outputs": [
    {
     "data": {
      "text/plain": [
       "Education_level\n",
       "Bachelor's     73902.356021\n",
       "Master's      127912.087912\n",
       "PhD           158095.238095\n",
       "Name: Salary, dtype: float64"
      ]
     },
     "execution_count": 20,
     "metadata": {},
     "output_type": "execute_result"
    }
   ],
   "source": [
    "df_salary.groupby(\"Education_level\")[\"Salary\"].mean()"
   ]
  },
  {
   "cell_type": "markdown",
   "id": "2f5467eb",
   "metadata": {},
   "source": [
    "Orang yang memiliki pendidikan yang semakin tinggi memiliki rata-rata gaji yang lebih tinggi."
   ]
  },
  {
   "cell_type": "markdown",
   "id": "57452f84",
   "metadata": {},
   "source": [
    "### 2.3. Numerical Variables with each Categorical Variables"
   ]
  },
  {
   "cell_type": "markdown",
   "id": "3cafef02",
   "metadata": {},
   "source": [
    "**Numerical Variable with Gender**"
   ]
  },
  {
   "cell_type": "code",
   "execution_count": 21,
   "id": "0ab93dd8",
   "metadata": {},
   "outputs": [
    {
     "name": "stderr",
     "output_type": "stream",
     "text": [
      "C:\\Users\\ASUS\\anaconda3\\lib\\site-packages\\seaborn\\axisgrid.py:118: UserWarning: The figure layout has changed to tight\n",
      "  self._figure.tight_layout(*args, **kwargs)\n"
     ]
    },
    {
     "data": {
      "text/plain": [
       "<seaborn.axisgrid.PairGrid at 0x269af631250>"
      ]
     },
     "execution_count": 21,
     "metadata": {},
     "output_type": "execute_result"
    },
    {
     "data": {
      "image/png": "[encoded data removed]",
      "text/plain": [
       "<Figure size 850.25x750 with 12 Axes>"
      ]
     },
     "metadata": {},
     "output_type": "display_data"
    }
   ],
   "source": [
    "sns.pairplot(data= df_salary, hue = \"Gender\", height=2.5)"
   ]
  },
  {
   "cell_type": "markdown",
   "id": "9b525529",
   "metadata": {},
   "source": [
    "- Semakin bertambah usia seseorang, gaji yang didapat juga semakin tinggi\n",
    "- Semakin lama pengalaman kerja seseorang, gaji yang didapat juga semakin tinggi\n",
    "- Variabel jenis kelamin tidak memberikan pola apapun pada setiap variabel numerik terhadap gaji\n"
   ]
  },
  {
   "cell_type": "markdown",
   "id": "b4f1c65c",
   "metadata": {},
   "source": [
    "**Numerical Variable with Education Level**"
   ]
  },
  {
   "cell_type": "code",
   "execution_count": 22,
   "id": "21faf540",
   "metadata": {},
   "outputs": [
    {
     "name": "stderr",
     "output_type": "stream",
     "text": [
      "C:\\Users\\ASUS\\anaconda3\\lib\\site-packages\\seaborn\\axisgrid.py:118: UserWarning: The figure layout has changed to tight\n",
      "  self._figure.tight_layout(*args, **kwargs)\n"
     ]
    },
    {
     "data": {
      "text/plain": [
       "<seaborn.axisgrid.PairGrid at 0x269b0778280>"
      ]
     },
     "execution_count": 22,
     "metadata": {},
     "output_type": "execute_result"
    },
    {
     "data": {
      "image/png": "[encoded data removed]",
      "text/plain": [
       "<Figure size 872.25x750 with 12 Axes>"
      ]
     },
     "metadata": {},
     "output_type": "display_data"
    }
   ],
   "source": [
    "sns.pairplot(data = df_salary, hue = \"Education_level\", height=2.5)"
   ]
  },
  {
   "cell_type": "markdown",
   "id": "3ebb544c",
   "metadata": {},
   "source": [
    "- Kenaikan tingkat pendidikan berhubungan positif dengan peningkatan besaran gaji seseorang.\n",
    "- Seseorang yang lebih tua cenderung memiliki tingkat pendidikan yang lebih tinggi.\n",
    "- Orang dengan tingkat pendidikan tinggi juga cenderung memiliki pengalaman kerja yang lebih lama."
   ]
  },
  {
   "cell_type": "markdown",
   "id": "8ceaf2dc",
   "metadata": {},
   "source": [
    "## 3. Uji Statistik"
   ]
  },
  {
   "cell_type": "markdown",
   "id": "f899096d",
   "metadata": {},
   "source": [
    "$H_0$: Rata-rata gaji laki-laki sama dengan dari rata-rata gaji perempuan.\n",
    "$$ H_0:\\mu_A = \\mu_B $$\n",
    "\n",
    "$H_1$: Rata-rata gaji laki-laki lebih besar dari rata-rata gaji perempuan.\n",
    "$$ H_1:\\mu_A > \\mu_B $$"
   ]
  },
  {
   "cell_type": "code",
   "execution_count": 23,
   "id": "d9ec08e7",
   "metadata": {},
   "outputs": [],
   "source": [
    "significance_level = 0.05"
   ]
  },
  {
   "cell_type": "code",
   "execution_count": 24,
   "id": "a8592e03",
   "metadata": {},
   "outputs": [
    {
     "data": {
      "text/plain": [
       "Gender\n",
       "Female     96136.363636\n",
       "Male      103472.647059\n",
       "Name: Salary, dtype: float64"
      ]
     },
     "execution_count": 24,
     "metadata": {},
     "output_type": "execute_result"
    }
   ],
   "source": [
    "# Menghitung jumlah rat-rata gaji laki-laki dan perempuan\n",
    "df_salary.groupby(\"Gender\")[\"Salary\"].mean()"
   ]
  },
  {
   "cell_type": "markdown",
   "id": "58c4c32b",
   "metadata": {},
   "source": [
    "**Rata-rata gaji laki-laki lebih tinggi dari rata-rata gaji perempuan**\n",
    "\n"
   ]
  },
  {
   "cell_type": "markdown",
   "id": "048b414f",
   "metadata": {},
   "source": [
    "Karena standar deviasi populasi tidak diketahui, maka t-test akan digunakan untuk pengujian."
   ]
  },
  {
   "cell_type": "code",
   "execution_count": 25,
   "id": "53d683b7",
   "metadata": {},
   "outputs": [
    {
     "data": {
      "text/plain": [
       "(2571353207.6989617, 2097896989.374262)"
      ]
     },
     "execution_count": 25,
     "metadata": {},
     "output_type": "execute_result"
    }
   ],
   "source": [
    "#Salary Laki-laki\n",
    "df_male = df_salary[df_salary[\"Gender\"]==\"Male\"][\"Salary\"].values\n",
    "\n",
    "#Salary Perempuan\n",
    "df_female = df_salary[df_salary[\"Gender\"]==\"Female\"][\"Salary\"].values\n",
    "\n",
    "#Varianse\n",
    "np.var(df_male), np.var(df_female)"
   ]
  },
  {
   "cell_type": "markdown",
   "id": "a2d0a96c",
   "metadata": {},
   "source": [
    "- Dari hasil diatas menunjukkan bahwa varians tidak sama"
   ]
  },
  {
   "cell_type": "code",
   "execution_count": 26,
   "id": "24d33aa1",
   "metadata": {},
   "outputs": [],
   "source": [
    "result = stats.ttest_ind(a = df_male,\n",
    "                         b = df_female,\n",
    "                         equal_var = False,\n",
    "                         alternative = \"greater\")"
   ]
  },
  {
   "cell_type": "code",
   "execution_count": 27,
   "id": "dc00b15a",
   "metadata": {},
   "outputs": [
    {
     "data": {
      "text/plain": [
       "0.08675461782037655"
      ]
     },
     "execution_count": 27,
     "metadata": {},
     "output_type": "execute_result"
    }
   ],
   "source": [
    "# Menentukan p-value\n",
    "result.pvalue"
   ]
  },
  {
   "cell_type": "code",
   "execution_count": 28,
   "id": "9b12daf5",
   "metadata": {},
   "outputs": [
    {
     "data": {
      "text/plain": [
       "1.364034982496829"
      ]
     },
     "execution_count": 28,
     "metadata": {},
     "output_type": "execute_result"
    }
   ],
   "source": [
    "result.statistic"
   ]
  },
  {
   "cell_type": "code",
   "execution_count": 29,
   "id": "48f986e4",
   "metadata": {},
   "outputs": [
    {
     "name": "stdout",
     "output_type": "stream",
     "text": [
      "Failed to reject the Null hypothesis\n"
     ]
    }
   ],
   "source": [
    "# menetukan aturan keputusan\n",
    "if result.pvalue < significance_level:\n",
    "    print(\"Reject the null hypothesis\")\n",
    "else:\n",
    "    print(\"Failed to reject the Null hypothesis\")"
   ]
  },
  {
   "cell_type": "markdown",
   "id": "96d2971f",
   "metadata": {},
   "source": [
    "**Terdapat cukup bukti bahwa rata-rata gaji laki-laki dan perempuan tidak sama. Rata-rata gaji laki-laki lebih tinggi dari perempuan**"
   ]
  },
  {
   "cell_type": "markdown",
   "id": "866d7af7",
   "metadata": {},
   "source": [
    "**Degree of freedom**"
   ]
  },
  {
   "cell_type": "code",
   "execution_count": 30,
   "id": "78c134fd",
   "metadata": {},
   "outputs": [
    {
     "data": {
      "text/plain": [
       "322"
      ]
     },
     "execution_count": 30,
     "metadata": {},
     "output_type": "execute_result"
    }
   ],
   "source": [
    "df_data = len(df_male)+len(df_female)-2\n",
    "df_data"
   ]
  },
  {
   "cell_type": "code",
   "execution_count": 31,
   "id": "23b87370",
   "metadata": {},
   "outputs": [
    {
     "data": {
      "image/png": "[encoded data removed]",
      "text/plain": [
       "<Figure size 640x480 with 1 Axes>"
      ]
     },
     "metadata": {},
     "output_type": "display_data"
    }
   ],
   "source": [
    "#plot sample distriibution\n",
    "x = np.arange(-4,14, 0.001)\n",
    "plt.plot(x,stats.t.pdf(x, df= df_data), color='blue')\n",
    "\n",
    "#plot aplha region\n",
    "x_alpha = np.arange(stats.t.ppf(1-significance_level, df = df_data), 4, 0.01)\n",
    "y_alpha = stats.t.pdf(x_alpha, df = df_data)\n",
    "plt.fill_between(x = x_alpha, y1 = y_alpha, facecolor = 'red', alpha= 0.35, label ='alpha')\n",
    "\n",
    "#plot pvalue\n",
    "x_pvalue = np.arange(result.statistic, 4, 0.01)\n",
    "y_pvalue = stats.t.pdf(x_pvalue, df=df_data)\n",
    "plt.fill_between(x = x_pvalue, y1= y_pvalue, facecolor = 'green', alpha = 0.35, label='pvalue')\n",
    "\n",
    "#plot t-crit and t-stats\n",
    "plt.axvline(np.round(result.statistic,4), color='green', linestyle = '--', label='t-stat')\n",
    "\n",
    "t_crit = np.round(stats.t.ppf(1-significance_level,df = df_data),4)\n",
    "plt.axvline(t_crit, color='red', linestyle = '--', label='t-crit')\n",
    "\n",
    "plt.legend()\n",
    "plt.xlabel(\"t\")\n",
    "plt.ylabel(\"density\")\n",
    "\n",
    "plt.title(f't Distribution Plot with df={df_data} \\n\\n t-statistic ={np.round(result.statistic, 4)}, t_crit ={np.round(t_crit, 4)}, alpha = {significance_level} ');\n",
    "          "
   ]
  },
  {
   "cell_type": "markdown",
   "id": "dfe1d24c",
   "metadata": {},
   "source": [
    "**Confidence Level**"
   ]
  },
  {
   "cell_type": "code",
   "execution_count": 32,
   "id": "6bf16ae6",
   "metadata": {},
   "outputs": [
    {
     "name": "stdout",
     "output_type": "stream",
     "text": [
      "Confidence Interval : [ -3244.897152030464 17917.463996950246 ]\n"
     ]
    }
   ],
   "source": [
    "from statsmodels.stats.weightstats import DescrStatsW, CompareMeans\n",
    "\n",
    "cm = CompareMeans(d1 = DescrStatsW(data=df_male), \n",
    "                  d2 = DescrStatsW(data=df_female))\n",
    "\n",
    "lower, upper = cm.tconfint_diff(alpha=significance_level, \n",
    "                                alternative='two-sided', \n",
    "                                usevar='unequal')\n",
    "\n",
    "print(\"Confidence Interval\", \":\", \"[\", lower, upper, \"]\")"
   ]
  },
  {
   "cell_type": "markdown",
   "id": "5821e06a",
   "metadata": {},
   "source": [
    "- Dapat disimpulkan bahwa dengan tingkat kepercayaan 95%, penguji yakin bahwa rata-rata gaji laki-laki lebih dari rata-rata gaji perempuan. \n",
    "- Dengan tingkat kepercayaan 95%, rata-rata perbedaan gaji memiliki interval di -3245 samapi dengan 17917"
   ]
  },
  {
   "cell_type": "markdown",
   "id": "ad9033a1",
   "metadata": {},
   "source": [
    "## 4. Model Regresi"
   ]
  },
  {
   "cell_type": "code",
   "execution_count": 36,
   "id": "5dcd02aa",
   "metadata": {},
   "outputs": [],
   "source": [
    "# Mengahapus kolom Job Titte\n",
    "df_salary.drop(\"Job Title\", axis=1, inplace=True)"
   ]
  },
  {
   "cell_type": "code",
   "execution_count": 37,
   "id": "384410f7",
   "metadata": {},
   "outputs": [
    {
     "data": {
      "text/html": [
       "<div>\n",
       "<style scoped>\n",
       "    .dataframe tbody tr th:only-of-type {\n",
       "        vertical-align: middle;\n",
       "    }\n",
       "\n",
       "    .dataframe tbody tr th {\n",
       "        vertical-align: top;\n",
       "    }\n",
       "\n",
       "    .dataframe thead th {\n",
       "        text-align: right;\n",
       "    }\n",
       "</style>\n",
       "<table border=\"1\" class=\"dataframe\">\n",
       "  <thead>\n",
       "    <tr style=\"text-align: right;\">\n",
       "      <th></th>\n",
       "      <th>Age</th>\n",
       "      <th>Gender</th>\n",
       "      <th>Education_level</th>\n",
       "      <th>Years_of_Experience</th>\n",
       "      <th>Salary</th>\n",
       "    </tr>\n",
       "  </thead>\n",
       "  <tbody>\n",
       "    <tr>\n",
       "      <th>0</th>\n",
       "      <td>32.0</td>\n",
       "      <td>Male</td>\n",
       "      <td>Bachelor's</td>\n",
       "      <td>5.0</td>\n",
       "      <td>90000.0</td>\n",
       "    </tr>\n",
       "    <tr>\n",
       "      <th>1</th>\n",
       "      <td>28.0</td>\n",
       "      <td>Female</td>\n",
       "      <td>Master's</td>\n",
       "      <td>3.0</td>\n",
       "      <td>65000.0</td>\n",
       "    </tr>\n",
       "    <tr>\n",
       "      <th>2</th>\n",
       "      <td>45.0</td>\n",
       "      <td>Male</td>\n",
       "      <td>PhD</td>\n",
       "      <td>15.0</td>\n",
       "      <td>150000.0</td>\n",
       "    </tr>\n",
       "    <tr>\n",
       "      <th>3</th>\n",
       "      <td>36.0</td>\n",
       "      <td>Female</td>\n",
       "      <td>Bachelor's</td>\n",
       "      <td>7.0</td>\n",
       "      <td>60000.0</td>\n",
       "    </tr>\n",
       "    <tr>\n",
       "      <th>4</th>\n",
       "      <td>52.0</td>\n",
       "      <td>Male</td>\n",
       "      <td>Master's</td>\n",
       "      <td>20.0</td>\n",
       "      <td>200000.0</td>\n",
       "    </tr>\n",
       "  </tbody>\n",
       "</table>\n",
       "</div>"
      ],
      "text/plain": [
       "    Age  Gender Education_level  Years_of_Experience    Salary\n",
       "0  32.0    Male      Bachelor's                  5.0   90000.0\n",
       "1  28.0  Female        Master's                  3.0   65000.0\n",
       "2  45.0    Male             PhD                 15.0  150000.0\n",
       "3  36.0  Female      Bachelor's                  7.0   60000.0\n",
       "4  52.0    Male        Master's                 20.0  200000.0"
      ]
     },
     "execution_count": 37,
     "metadata": {},
     "output_type": "execute_result"
    }
   ],
   "source": [
    "df_salary.head()"
   ]
  },
  {
   "cell_type": "markdown",
   "id": "f4fc462f",
   "metadata": {},
   "source": [
    "**Mengubah data kategori menjadi data numeric**"
   ]
  },
  {
   "cell_type": "code",
   "execution_count": 38,
   "id": "df07c034",
   "metadata": {},
   "outputs": [
    {
     "data": {
      "text/html": [
       "<div>\n",
       "<style scoped>\n",
       "    .dataframe tbody tr th:only-of-type {\n",
       "        vertical-align: middle;\n",
       "    }\n",
       "\n",
       "    .dataframe tbody tr th {\n",
       "        vertical-align: top;\n",
       "    }\n",
       "\n",
       "    .dataframe thead th {\n",
       "        text-align: right;\n",
       "    }\n",
       "</style>\n",
       "<table border=\"1\" class=\"dataframe\">\n",
       "  <thead>\n",
       "    <tr style=\"text-align: right;\">\n",
       "      <th></th>\n",
       "      <th>Age</th>\n",
       "      <th>Gender</th>\n",
       "      <th>Education_level</th>\n",
       "      <th>Years_of_Experience</th>\n",
       "      <th>Salary</th>\n",
       "    </tr>\n",
       "  </thead>\n",
       "  <tbody>\n",
       "    <tr>\n",
       "      <th>0</th>\n",
       "      <td>32.0</td>\n",
       "      <td>0</td>\n",
       "      <td>0</td>\n",
       "      <td>5.0</td>\n",
       "      <td>90000.0</td>\n",
       "    </tr>\n",
       "    <tr>\n",
       "      <th>1</th>\n",
       "      <td>28.0</td>\n",
       "      <td>1</td>\n",
       "      <td>1</td>\n",
       "      <td>3.0</td>\n",
       "      <td>65000.0</td>\n",
       "    </tr>\n",
       "    <tr>\n",
       "      <th>2</th>\n",
       "      <td>45.0</td>\n",
       "      <td>0</td>\n",
       "      <td>2</td>\n",
       "      <td>15.0</td>\n",
       "      <td>150000.0</td>\n",
       "    </tr>\n",
       "    <tr>\n",
       "      <th>3</th>\n",
       "      <td>36.0</td>\n",
       "      <td>1</td>\n",
       "      <td>0</td>\n",
       "      <td>7.0</td>\n",
       "      <td>60000.0</td>\n",
       "    </tr>\n",
       "    <tr>\n",
       "      <th>4</th>\n",
       "      <td>52.0</td>\n",
       "      <td>0</td>\n",
       "      <td>1</td>\n",
       "      <td>20.0</td>\n",
       "      <td>200000.0</td>\n",
       "    </tr>\n",
       "  </tbody>\n",
       "</table>\n",
       "</div>"
      ],
      "text/plain": [
       "    Age  Gender  Education_level  Years_of_Experience    Salary\n",
       "0  32.0       0                0                  5.0   90000.0\n",
       "1  28.0       1                1                  3.0   65000.0\n",
       "2  45.0       0                2                 15.0  150000.0\n",
       "3  36.0       1                0                  7.0   60000.0\n",
       "4  52.0       0                1                 20.0  200000.0"
      ]
     },
     "execution_count": 38,
     "metadata": {},
     "output_type": "execute_result"
    }
   ],
   "source": [
    "# Use LabelEncoder to convert the smoker variable into numeric\n",
    "from sklearn.preprocessing import LabelEncoder\n",
    "\n",
    "# Mapping\n",
    "gender_mapping = {\"Male\": 0, \"Female\": 1}\n",
    "edu_mapping = {\"Bachelor's\":0 , \"Master's\":1 , \"PhD\":2}\n",
    "\n",
    "# Create LabelEncoder Object and Transform the Age and education variable\n",
    "df_salary[\"Gender\"] = LabelEncoder().fit_transform(df_salary[\"Gender\"].map(gender_mapping))\n",
    "df_salary[\"Education_level\"] = LabelEncoder().fit_transform(df_salary[\"Education_level\"].map(edu_mapping))\n",
    "\n",
    "# Display the 5th first row after transforming\n",
    "df_salary.head()"
   ]
  },
  {
   "cell_type": "markdown",
   "id": "eb4f547e",
   "metadata": {},
   "source": [
    "## 4.1 Model Regresi 1 Prediktor"
   ]
  },
  {
   "cell_type": "code",
   "execution_count": 39,
   "id": "fff84914",
   "metadata": {},
   "outputs": [
    {
     "data": {
      "image/png": "[encoded data removed]",
      "text/plain": [
       "<Figure size 640x480 with 1 Axes>"
      ]
     },
     "metadata": {},
     "output_type": "display_data"
    }
   ],
   "source": [
    "#Melihat hubungan antara pengalaman kerja dan gaji\n",
    "x = df_salary[\"Years_of_Experience\"]\n",
    "y = df_salary[\"Salary\"]\n",
    "\n",
    "#Plot the data\n",
    "plt.scatter(x,y, color=\"k\", marker=\".\")\n",
    "\n",
    "#Add a legend and labels\n",
    "plt.xlabel(\"Years of Experience\")\n",
    "plt.ylabel(\"Salary\")\n",
    "\n",
    "#Add a title\n",
    "plt.title(\"Data\")\n",
    "\n",
    "#Show the plot\n",
    "plt.show()"
   ]
  },
  {
   "cell_type": "markdown",
   "id": "dfcc83a2",
   "metadata": {},
   "source": [
    "Dari grafik di atas, pengalaman kerja dan gaji menunjukkan hubungan positif. Semakin lama pengalaman kerja, variasi gaji yang didapatkan cenderung lebih besar"
   ]
  },
  {
   "cell_type": "markdown",
   "id": "2c090d85",
   "metadata": {},
   "source": [
    "### 4.1.1. Fit Linear Regression "
   ]
  },
  {
   "cell_type": "code",
   "execution_count": 40,
   "id": "cc35d9f6",
   "metadata": {},
   "outputs": [
    {
     "data": {
      "text/html": [
       "<div>\n",
       "<style scoped>\n",
       "    .dataframe tbody tr th:only-of-type {\n",
       "        vertical-align: middle;\n",
       "    }\n",
       "\n",
       "    .dataframe tbody tr th {\n",
       "        vertical-align: top;\n",
       "    }\n",
       "\n",
       "    .dataframe thead th {\n",
       "        text-align: right;\n",
       "    }\n",
       "</style>\n",
       "<table border=\"1\" class=\"dataframe\">\n",
       "  <thead>\n",
       "    <tr style=\"text-align: right;\">\n",
       "      <th></th>\n",
       "      <th>coef</th>\n",
       "      <th>std err</th>\n",
       "    </tr>\n",
       "  </thead>\n",
       "  <tbody>\n",
       "    <tr>\n",
       "      <th>Intercept</th>\n",
       "      <td>31959.508721</td>\n",
       "      <td>1873.552736</td>\n",
       "    </tr>\n",
       "    <tr>\n",
       "      <th>Years_of_Experience</th>\n",
       "      <td>6762.954641</td>\n",
       "      <td>155.446221</td>\n",
       "    </tr>\n",
       "  </tbody>\n",
       "</table>\n",
       "</div>"
      ],
      "text/plain": [
       "                             coef      std err\n",
       "Intercept            31959.508721  1873.552736\n",
       "Years_of_Experience   6762.954641   155.446221"
      ]
     },
     "execution_count": 40,
     "metadata": {},
     "output_type": "execute_result"
    }
   ],
   "source": [
    "#Create OLS model object\n",
    "model = smf.ols(\"Salary ~ Years_of_Experience\", df_salary)\n",
    "\n",
    "#Fit the model\n",
    "results_model_salary = model.fit()\n",
    "\n",
    "#Extract the results (Coefficient and Standard Error) to Dataframe\n",
    "results_salary = print_coef_std_err(results_model_salary)\n",
    "results_salary"
   ]
  },
  {
   "cell_type": "code",
   "execution_count": 104,
   "id": "6c7fd16c",
   "metadata": {},
   "outputs": [
    {
     "data": {
      "text/plain": [
       "0.854616668146078"
      ]
     },
     "execution_count": 104,
     "metadata": {},
     "output_type": "execute_result"
    }
   ],
   "source": [
    "results_model_salary.rsquared"
   ]
  },
  {
   "cell_type": "markdown",
   "id": "c6f55172",
   "metadata": {},
   "source": [
    "$$\\text{Salary} = 31960 + 6763\\times\\text{Years of Experience}$$"
   ]
  },
  {
   "cell_type": "markdown",
   "id": "3b401cfc",
   "metadata": {},
   "source": [
    "- Dengan membandingakan dua orang yang memiliki perbedaan 1 tahun di pengalaman kerja, diperkirakan orang yang memiliki pengalaman kerja lebih lama memiliki selisih 6763 lebih besar.\n",
    "- Untuk orang yang memiliki 0 tahun pengalaman kerja, memiliki perkiraan rata-rata gaji sebesar 31,960"
   ]
  },
  {
   "cell_type": "markdown",
   "id": "63fe105c",
   "metadata": {},
   "source": [
    "**Visualisasi**\n"
   ]
  },
  {
   "cell_type": "code",
   "execution_count": 41,
   "id": "1271cfbf",
   "metadata": {},
   "outputs": [
    {
     "data": {
      "image/png": "[encoded data removed]",
      "text/plain": [
       "<Figure size 640x480 with 1 Axes>"
      ]
     },
     "metadata": {},
     "output_type": "display_data"
    }
   ],
   "source": [
    "predictor = \"Years_of_Experience\"\n",
    "outcome =\"Salary\"\n",
    "data = df_salary.copy()\n",
    "results_ = results_salary.copy()\n",
    "\n",
    "#Plot the data\n",
    "plt.scatter(data[predictor],data[outcome], color =\"k\", marker =\".\")\n",
    "\n",
    "#Calcultae the fitted values\n",
    "a_hat = results_.loc[\"Intercept\"][\"coef\"]\n",
    "b_hat = results_.loc[predictor][\"coef\"]\n",
    "\n",
    "x_domain = np.linspace(np.min(data[predictor]), np.max(data[predictor]),10000)\n",
    "\n",
    "fitted_values = a_hat + b_hat * x_domain\n",
    "\n",
    "#Plot the fitted line\n",
    "plt.plot(x_domain, fitted_values, label=\"Fitted Line\", color=\"g\")\n",
    "\n",
    "#Add a legend and Label\n",
    "plt.legend()\n",
    "plt.xlabel(predictor)\n",
    "plt.ylabel(outcome)\n",
    "\n",
    "#Add a title \n",
    "plt.title(\"Data and fitted regression line\")\n",
    "plt.show()"
   ]
  },
  {
   "cell_type": "markdown",
   "id": "a72d5427",
   "metadata": {},
   "source": [
    "**Residual Plot**"
   ]
  },
  {
   "cell_type": "code",
   "execution_count": 65,
   "id": "cfd11c6b",
   "metadata": {},
   "outputs": [
    {
     "data": {
      "text/plain": [
       "Text(0.5, 1.0, 'Residual Plot vs. Predicted Value')"
      ]
     },
     "execution_count": 65,
     "metadata": {},
     "output_type": "execute_result"
    },
    {
     "data": {
      "image/png": "[encoded data removed]",
      "text/plain": [
       "<Figure size 640x480 with 1 Axes>"
      ]
     },
     "metadata": {},
     "output_type": "display_data"
    }
   ],
   "source": [
    "#Residual Plot and Explained Variance\n",
    "plt.scatter(results_model_salary.fittedvalues, results_model_salary.resid, marker=\".\", color=\"k\")\n",
    "\n",
    "#Plot thehorizontal line in 0 as the fitted line\n",
    "plt.axhline([0])\n",
    "\n",
    "plt.xlabel(\"Predicted value\")\n",
    "plt.ylabel(\"Residual\")\n",
    "plt.title(\"Residual Plot vs. Predicted Value\")"
   ]
  },
  {
   "cell_type": "code",
   "execution_count": 43,
   "id": "952fbd05",
   "metadata": {},
   "outputs": [
    {
     "data": {
      "text/plain": [
       "0.854616668146078"
      ]
     },
     "execution_count": 43,
     "metadata": {},
     "output_type": "execute_result"
    }
   ],
   "source": [
    "results_model_salary.rsquared"
   ]
  },
  {
   "cell_type": "markdown",
   "id": "ea9ff27a",
   "metadata": {},
   "source": [
    "Residual plot menghasilkan pola yang terlihat jelas, hal ini membuat ketidaksesuaian terlihat meskipun garis regresi  menjelaskan lebih dari 85% variansi lama pengalaman kerja"
   ]
  },
  {
   "cell_type": "markdown",
   "id": "a865c666",
   "metadata": {},
   "source": [
    "#### Normality of error assumption "
   ]
  },
  {
   "cell_type": "code",
   "execution_count": 44,
   "id": "d253908b",
   "metadata": {},
   "outputs": [
    {
     "data": {
      "image/png": "[encoded data removed]",
      "text/plain": [
       "<Figure size 640x480 with 1 Axes>"
      ]
     },
     "metadata": {},
     "output_type": "display_data"
    }
   ],
   "source": [
    "plt.hist(results_model_salary.resid, color='tab:blue', alpha=0.4)\n",
    "plt.xlabel(\"residual\")\n",
    "plt.ylabel(\"count\")\n",
    "\n",
    "plt.show()"
   ]
  },
  {
   "cell_type": "markdown",
   "id": "dc81fa83",
   "metadata": {},
   "source": [
    "### 4.1.2. Fit Linear Regression - Using Log Transform on Weight Variable"
   ]
  },
  {
   "cell_type": "code",
   "execution_count": 45,
   "id": "c7713c86",
   "metadata": {},
   "outputs": [
    {
     "name": "stderr",
     "output_type": "stream",
     "text": [
      "C:\\Users\\ASUS\\anaconda3\\lib\\site-packages\\pandas\\core\\arraylike.py:396: RuntimeWarning: divide by zero encountered in log\n",
      "  result = getattr(ufunc, method)(*inputs, **kwargs)\n"
     ]
    },
    {
     "data": {
      "text/html": [
       "<div>\n",
       "<style scoped>\n",
       "    .dataframe tbody tr th:only-of-type {\n",
       "        vertical-align: middle;\n",
       "    }\n",
       "\n",
       "    .dataframe tbody tr th {\n",
       "        vertical-align: top;\n",
       "    }\n",
       "\n",
       "    .dataframe thead th {\n",
       "        text-align: right;\n",
       "    }\n",
       "</style>\n",
       "<table border=\"1\" class=\"dataframe\">\n",
       "  <thead>\n",
       "    <tr style=\"text-align: right;\">\n",
       "      <th></th>\n",
       "      <th>Age</th>\n",
       "      <th>Gender</th>\n",
       "      <th>Education_level</th>\n",
       "      <th>Years_of_Experience</th>\n",
       "      <th>Salary</th>\n",
       "      <th>logYoE</th>\n",
       "    </tr>\n",
       "  </thead>\n",
       "  <tbody>\n",
       "    <tr>\n",
       "      <th>0</th>\n",
       "      <td>32.0</td>\n",
       "      <td>0</td>\n",
       "      <td>0</td>\n",
       "      <td>5.0</td>\n",
       "      <td>90000.0</td>\n",
       "      <td>1.609438</td>\n",
       "    </tr>\n",
       "    <tr>\n",
       "      <th>1</th>\n",
       "      <td>28.0</td>\n",
       "      <td>1</td>\n",
       "      <td>1</td>\n",
       "      <td>3.0</td>\n",
       "      <td>65000.0</td>\n",
       "      <td>1.098612</td>\n",
       "    </tr>\n",
       "    <tr>\n",
       "      <th>2</th>\n",
       "      <td>45.0</td>\n",
       "      <td>0</td>\n",
       "      <td>2</td>\n",
       "      <td>15.0</td>\n",
       "      <td>150000.0</td>\n",
       "      <td>2.708050</td>\n",
       "    </tr>\n",
       "    <tr>\n",
       "      <th>3</th>\n",
       "      <td>36.0</td>\n",
       "      <td>1</td>\n",
       "      <td>0</td>\n",
       "      <td>7.0</td>\n",
       "      <td>60000.0</td>\n",
       "      <td>1.945910</td>\n",
       "    </tr>\n",
       "    <tr>\n",
       "      <th>4</th>\n",
       "      <td>52.0</td>\n",
       "      <td>0</td>\n",
       "      <td>1</td>\n",
       "      <td>20.0</td>\n",
       "      <td>200000.0</td>\n",
       "      <td>2.995732</td>\n",
       "    </tr>\n",
       "    <tr>\n",
       "      <th>...</th>\n",
       "      <td>...</td>\n",
       "      <td>...</td>\n",
       "      <td>...</td>\n",
       "      <td>...</td>\n",
       "      <td>...</td>\n",
       "      <td>...</td>\n",
       "    </tr>\n",
       "    <tr>\n",
       "      <th>348</th>\n",
       "      <td>28.0</td>\n",
       "      <td>1</td>\n",
       "      <td>0</td>\n",
       "      <td>1.0</td>\n",
       "      <td>35000.0</td>\n",
       "      <td>0.000000</td>\n",
       "    </tr>\n",
       "    <tr>\n",
       "      <th>349</th>\n",
       "      <td>36.0</td>\n",
       "      <td>0</td>\n",
       "      <td>0</td>\n",
       "      <td>8.0</td>\n",
       "      <td>110000.0</td>\n",
       "      <td>2.079442</td>\n",
       "    </tr>\n",
       "    <tr>\n",
       "      <th>350</th>\n",
       "      <td>44.0</td>\n",
       "      <td>1</td>\n",
       "      <td>2</td>\n",
       "      <td>16.0</td>\n",
       "      <td>160000.0</td>\n",
       "      <td>2.772589</td>\n",
       "    </tr>\n",
       "    <tr>\n",
       "      <th>351</th>\n",
       "      <td>31.0</td>\n",
       "      <td>0</td>\n",
       "      <td>0</td>\n",
       "      <td>3.0</td>\n",
       "      <td>55000.0</td>\n",
       "      <td>1.098612</td>\n",
       "    </tr>\n",
       "    <tr>\n",
       "      <th>371</th>\n",
       "      <td>43.0</td>\n",
       "      <td>0</td>\n",
       "      <td>1</td>\n",
       "      <td>19.0</td>\n",
       "      <td>170000.0</td>\n",
       "      <td>2.944439</td>\n",
       "    </tr>\n",
       "  </tbody>\n",
       "</table>\n",
       "<p>324 rows × 6 columns</p>\n",
       "</div>"
      ],
      "text/plain": [
       "      Age  Gender  Education_level  Years_of_Experience    Salary    logYoE\n",
       "0    32.0       0                0                  5.0   90000.0  1.609438\n",
       "1    28.0       1                1                  3.0   65000.0  1.098612\n",
       "2    45.0       0                2                 15.0  150000.0  2.708050\n",
       "3    36.0       1                0                  7.0   60000.0  1.945910\n",
       "4    52.0       0                1                 20.0  200000.0  2.995732\n",
       "..    ...     ...              ...                  ...       ...       ...\n",
       "348  28.0       1                0                  1.0   35000.0  0.000000\n",
       "349  36.0       0                0                  8.0  110000.0  2.079442\n",
       "350  44.0       1                2                 16.0  160000.0  2.772589\n",
       "351  31.0       0                0                  3.0   55000.0  1.098612\n",
       "371  43.0       0                1                 19.0  170000.0  2.944439\n",
       "\n",
       "[324 rows x 6 columns]"
      ]
     },
     "execution_count": 45,
     "metadata": {},
     "output_type": "execute_result"
    }
   ],
   "source": [
    "df_salary[\"logYoE\"] = np.log(df_salary[\"Years_of_Experience\"])\n",
    "df_salary.loc[df_salary[\"Years_of_Experience\"]==0, \"logYoE\"] = 0\n",
    "df_salary"
   ]
  },
  {
   "cell_type": "code",
   "execution_count": 46,
   "id": "d2de803a",
   "metadata": {},
   "outputs": [
    {
     "data": {
      "text/html": [
       "<div>\n",
       "<style scoped>\n",
       "    .dataframe tbody tr th:only-of-type {\n",
       "        vertical-align: middle;\n",
       "    }\n",
       "\n",
       "    .dataframe tbody tr th {\n",
       "        vertical-align: top;\n",
       "    }\n",
       "\n",
       "    .dataframe thead th {\n",
       "        text-align: right;\n",
       "    }\n",
       "</style>\n",
       "<table border=\"1\" class=\"dataframe\">\n",
       "  <thead>\n",
       "    <tr style=\"text-align: right;\">\n",
       "      <th></th>\n",
       "      <th>Age</th>\n",
       "      <th>Gender</th>\n",
       "      <th>Education_level</th>\n",
       "      <th>Years_of_Experience</th>\n",
       "      <th>Salary</th>\n",
       "      <th>logYoE</th>\n",
       "    </tr>\n",
       "  </thead>\n",
       "  <tbody>\n",
       "    <tr>\n",
       "      <th>count</th>\n",
       "      <td>324.000000</td>\n",
       "      <td>324.000000</td>\n",
       "      <td>324.000000</td>\n",
       "      <td>324.000000</td>\n",
       "      <td>324.000000</td>\n",
       "      <td>324.000000</td>\n",
       "    </tr>\n",
       "    <tr>\n",
       "      <th>mean</th>\n",
       "      <td>37.382716</td>\n",
       "      <td>0.475309</td>\n",
       "      <td>0.540123</td>\n",
       "      <td>10.058642</td>\n",
       "      <td>99985.648148</td>\n",
       "      <td>2.005576</td>\n",
       "    </tr>\n",
       "    <tr>\n",
       "      <th>std</th>\n",
       "      <td>7.185844</td>\n",
       "      <td>0.500162</td>\n",
       "      <td>0.713597</td>\n",
       "      <td>6.650470</td>\n",
       "      <td>48652.271440</td>\n",
       "      <td>0.874208</td>\n",
       "    </tr>\n",
       "    <tr>\n",
       "      <th>min</th>\n",
       "      <td>23.000000</td>\n",
       "      <td>0.000000</td>\n",
       "      <td>0.000000</td>\n",
       "      <td>0.000000</td>\n",
       "      <td>350.000000</td>\n",
       "      <td>-0.693147</td>\n",
       "    </tr>\n",
       "    <tr>\n",
       "      <th>25%</th>\n",
       "      <td>31.000000</td>\n",
       "      <td>0.000000</td>\n",
       "      <td>0.000000</td>\n",
       "      <td>4.000000</td>\n",
       "      <td>55000.000000</td>\n",
       "      <td>1.386294</td>\n",
       "    </tr>\n",
       "    <tr>\n",
       "      <th>50%</th>\n",
       "      <td>36.500000</td>\n",
       "      <td>0.000000</td>\n",
       "      <td>0.000000</td>\n",
       "      <td>9.000000</td>\n",
       "      <td>95000.000000</td>\n",
       "      <td>2.197225</td>\n",
       "    </tr>\n",
       "    <tr>\n",
       "      <th>75%</th>\n",
       "      <td>44.000000</td>\n",
       "      <td>1.000000</td>\n",
       "      <td>1.000000</td>\n",
       "      <td>16.000000</td>\n",
       "      <td>140000.000000</td>\n",
       "      <td>2.772589</td>\n",
       "    </tr>\n",
       "    <tr>\n",
       "      <th>max</th>\n",
       "      <td>53.000000</td>\n",
       "      <td>1.000000</td>\n",
       "      <td>2.000000</td>\n",
       "      <td>25.000000</td>\n",
       "      <td>250000.000000</td>\n",
       "      <td>3.218876</td>\n",
       "    </tr>\n",
       "  </tbody>\n",
       "</table>\n",
       "</div>"
      ],
      "text/plain": [
       "              Age      Gender  Education_level  Years_of_Experience  \\\n",
       "count  324.000000  324.000000       324.000000           324.000000   \n",
       "mean    37.382716    0.475309         0.540123            10.058642   \n",
       "std      7.185844    0.500162         0.713597             6.650470   \n",
       "min     23.000000    0.000000         0.000000             0.000000   \n",
       "25%     31.000000    0.000000         0.000000             4.000000   \n",
       "50%     36.500000    0.000000         0.000000             9.000000   \n",
       "75%     44.000000    1.000000         1.000000            16.000000   \n",
       "max     53.000000    1.000000         2.000000            25.000000   \n",
       "\n",
       "              Salary      logYoE  \n",
       "count     324.000000  324.000000  \n",
       "mean    99985.648148    2.005576  \n",
       "std     48652.271440    0.874208  \n",
       "min       350.000000   -0.693147  \n",
       "25%     55000.000000    1.386294  \n",
       "50%     95000.000000    2.197225  \n",
       "75%    140000.000000    2.772589  \n",
       "max    250000.000000    3.218876  "
      ]
     },
     "execution_count": 46,
     "metadata": {},
     "output_type": "execute_result"
    }
   ],
   "source": [
    "df_salary.describe()"
   ]
  },
  {
   "cell_type": "code",
   "execution_count": 47,
   "id": "1b28c9aa",
   "metadata": {},
   "outputs": [
    {
     "data": {
      "text/html": [
       "<div>\n",
       "<style scoped>\n",
       "    .dataframe tbody tr th:only-of-type {\n",
       "        vertical-align: middle;\n",
       "    }\n",
       "\n",
       "    .dataframe tbody tr th {\n",
       "        vertical-align: top;\n",
       "    }\n",
       "\n",
       "    .dataframe thead th {\n",
       "        text-align: right;\n",
       "    }\n",
       "</style>\n",
       "<table border=\"1\" class=\"dataframe\">\n",
       "  <thead>\n",
       "    <tr style=\"text-align: right;\">\n",
       "      <th></th>\n",
       "      <th>coef</th>\n",
       "      <th>std err</th>\n",
       "    </tr>\n",
       "  </thead>\n",
       "  <tbody>\n",
       "    <tr>\n",
       "      <th>Intercept</th>\n",
       "      <td>2321.447994</td>\n",
       "      <td>3284.146736</td>\n",
       "    </tr>\n",
       "    <tr>\n",
       "      <th>logYoE</th>\n",
       "      <td>48696.340871</td>\n",
       "      <td>1501.472036</td>\n",
       "    </tr>\n",
       "  </tbody>\n",
       "</table>\n",
       "</div>"
      ],
      "text/plain": [
       "                   coef      std err\n",
       "Intercept   2321.447994  3284.146736\n",
       "logYoE     48696.340871  1501.472036"
      ]
     },
     "execution_count": 47,
     "metadata": {},
     "output_type": "execute_result"
    }
   ],
   "source": [
    "#Create OLS model object\n",
    "model = smf.ols(\"Salary ~ logYoE\", df_salary)\n",
    "\n",
    "#FIt the model\n",
    "results_logtransform = model.fit()\n",
    "\n",
    "#Extract the results (Coefficeint and Standard Error) to Dataframe\n",
    "results_salary_log = print_coef_std_err(results_logtransform)\n",
    "results_salary_log"
   ]
  },
  {
   "cell_type": "code",
   "execution_count": 48,
   "id": "c50d5db4",
   "metadata": {},
   "outputs": [
    {
     "data": {
      "text/plain": [
       "0.7656239539695424"
      ]
     },
     "execution_count": 48,
     "metadata": {},
     "output_type": "execute_result"
    }
   ],
   "source": [
    "results_logtransform.rsquared"
   ]
  },
  {
   "cell_type": "markdown",
   "id": "f1a80d8b",
   "metadata": {},
   "source": [
    "Nilai R squared pada regresi linier dengan transformasi log lebih kecil daripada nilai R Squared tanpa transformasi. Maka performance model regresi tanpa transformasi lebih baik"
   ]
  },
  {
   "cell_type": "markdown",
   "id": "8a7fdaca",
   "metadata": {},
   "source": [
    "## 4.2. Multiple Predictors Modelling"
   ]
  },
  {
   "cell_type": "markdown",
   "id": "a6c2df44",
   "metadata": {},
   "source": [
    "**Data Preparation**"
   ]
  },
  {
   "cell_type": "code",
   "execution_count": 49,
   "id": "5405aec0",
   "metadata": {},
   "outputs": [
    {
     "data": {
      "text/html": [
       "<div>\n",
       "<style scoped>\n",
       "    .dataframe tbody tr th:only-of-type {\n",
       "        vertical-align: middle;\n",
       "    }\n",
       "\n",
       "    .dataframe tbody tr th {\n",
       "        vertical-align: top;\n",
       "    }\n",
       "\n",
       "    .dataframe thead th {\n",
       "        text-align: right;\n",
       "    }\n",
       "</style>\n",
       "<table border=\"1\" class=\"dataframe\">\n",
       "  <thead>\n",
       "    <tr style=\"text-align: right;\">\n",
       "      <th></th>\n",
       "      <th>Age</th>\n",
       "      <th>Gender</th>\n",
       "      <th>Education_level</th>\n",
       "      <th>Years_of_Experience</th>\n",
       "      <th>Salary</th>\n",
       "    </tr>\n",
       "  </thead>\n",
       "  <tbody>\n",
       "    <tr>\n",
       "      <th>0</th>\n",
       "      <td>32.0</td>\n",
       "      <td>0</td>\n",
       "      <td>0</td>\n",
       "      <td>5.0</td>\n",
       "      <td>90000.0</td>\n",
       "    </tr>\n",
       "    <tr>\n",
       "      <th>1</th>\n",
       "      <td>28.0</td>\n",
       "      <td>1</td>\n",
       "      <td>1</td>\n",
       "      <td>3.0</td>\n",
       "      <td>65000.0</td>\n",
       "    </tr>\n",
       "    <tr>\n",
       "      <th>2</th>\n",
       "      <td>45.0</td>\n",
       "      <td>0</td>\n",
       "      <td>2</td>\n",
       "      <td>15.0</td>\n",
       "      <td>150000.0</td>\n",
       "    </tr>\n",
       "    <tr>\n",
       "      <th>3</th>\n",
       "      <td>36.0</td>\n",
       "      <td>1</td>\n",
       "      <td>0</td>\n",
       "      <td>7.0</td>\n",
       "      <td>60000.0</td>\n",
       "    </tr>\n",
       "    <tr>\n",
       "      <th>4</th>\n",
       "      <td>52.0</td>\n",
       "      <td>0</td>\n",
       "      <td>1</td>\n",
       "      <td>20.0</td>\n",
       "      <td>200000.0</td>\n",
       "    </tr>\n",
       "    <tr>\n",
       "      <th>...</th>\n",
       "      <td>...</td>\n",
       "      <td>...</td>\n",
       "      <td>...</td>\n",
       "      <td>...</td>\n",
       "      <td>...</td>\n",
       "    </tr>\n",
       "    <tr>\n",
       "      <th>348</th>\n",
       "      <td>28.0</td>\n",
       "      <td>1</td>\n",
       "      <td>0</td>\n",
       "      <td>1.0</td>\n",
       "      <td>35000.0</td>\n",
       "    </tr>\n",
       "    <tr>\n",
       "      <th>349</th>\n",
       "      <td>36.0</td>\n",
       "      <td>0</td>\n",
       "      <td>0</td>\n",
       "      <td>8.0</td>\n",
       "      <td>110000.0</td>\n",
       "    </tr>\n",
       "    <tr>\n",
       "      <th>350</th>\n",
       "      <td>44.0</td>\n",
       "      <td>1</td>\n",
       "      <td>2</td>\n",
       "      <td>16.0</td>\n",
       "      <td>160000.0</td>\n",
       "    </tr>\n",
       "    <tr>\n",
       "      <th>351</th>\n",
       "      <td>31.0</td>\n",
       "      <td>0</td>\n",
       "      <td>0</td>\n",
       "      <td>3.0</td>\n",
       "      <td>55000.0</td>\n",
       "    </tr>\n",
       "    <tr>\n",
       "      <th>371</th>\n",
       "      <td>43.0</td>\n",
       "      <td>0</td>\n",
       "      <td>1</td>\n",
       "      <td>19.0</td>\n",
       "      <td>170000.0</td>\n",
       "    </tr>\n",
       "  </tbody>\n",
       "</table>\n",
       "<p>324 rows × 5 columns</p>\n",
       "</div>"
      ],
      "text/plain": [
       "      Age  Gender  Education_level  Years_of_Experience    Salary\n",
       "0    32.0       0                0                  5.0   90000.0\n",
       "1    28.0       1                1                  3.0   65000.0\n",
       "2    45.0       0                2                 15.0  150000.0\n",
       "3    36.0       1                0                  7.0   60000.0\n",
       "4    52.0       0                1                 20.0  200000.0\n",
       "..    ...     ...              ...                  ...       ...\n",
       "348  28.0       1                0                  1.0   35000.0\n",
       "349  36.0       0                0                  8.0  110000.0\n",
       "350  44.0       1                2                 16.0  160000.0\n",
       "351  31.0       0                0                  3.0   55000.0\n",
       "371  43.0       0                1                 19.0  170000.0\n",
       "\n",
       "[324 rows x 5 columns]"
      ]
     },
     "execution_count": 49,
     "metadata": {},
     "output_type": "execute_result"
    }
   ],
   "source": [
    "df_salary.drop(\"logYoE\", axis=1, inplace=True)\n",
    "df_salary"
   ]
  },
  {
   "cell_type": "code",
   "execution_count": 50,
   "id": "59079275",
   "metadata": {},
   "outputs": [],
   "source": [
    "class StatsmodelsRegressor(BaseEstimator, RegressorMixin):\n",
    "    \"\"\" A universal sklearn-style wrapper for statsmodels regressors \"\"\"\n",
    "    \n",
    "    def __init__(self, sm_class, sm_formula):\n",
    "        self.sm_class = sm_class\n",
    "        self.sm_formula = sm_formula\n",
    "        self.model = None\n",
    "        self.result = None\n",
    " \n",
    "    def fit(self, data, dummy):\n",
    "        self.model = self.sm_class(self.sm_formula, data)\n",
    "        self.result = self.model.fit()\n",
    " \n",
    "    def predict(self,X):\n",
    "        return self.result.predict(X)\n",
    "\n",
    "def kfold_split(data, n_fold):\n",
    "    \"\"\"\n",
    "    Function to combine estimated coefficients and standard error in one DataFrame\n",
    "    :param data: <pandas DataFrame> \n",
    "    :param n_fold: <int> Number of fold in k-fold CV\n",
    "    :return fold_train: <pandas DataFrame> Training Data\n",
    "    :return fold_test: <pandas DataFrame> Testing Data\n",
    "    \"\"\"\n",
    "    kfold = KFold(n_splits = n_fold, \n",
    "                  shuffle = True, \n",
    "                  random_state=123)\n",
    "    fold_train = {}\n",
    "    fold_test = {}\n",
    "\n",
    "    for i, (train, test) in enumerate(kfold.split(data)):\n",
    "        print(f\"fold {i+1}, train data rows: {len(train)}, test data rows: {len(test)}\")\n",
    "        fold_train[i] = data.iloc[train].copy()\n",
    "        fold_test[i] = data.iloc[test].copy()\n",
    "        \n",
    "    return (fold_train, fold_test)"
   ]
  },
  {
   "cell_type": "markdown",
   "id": "80738952",
   "metadata": {},
   "source": [
    "### Evaluate a model using K-fold cross validation"
   ]
  },
  {
   "cell_type": "code",
   "execution_count": 51,
   "id": "59bf154c",
   "metadata": {},
   "outputs": [],
   "source": [
    "# Create a class model\n",
    "ols_all_pred = StatsmodelsRegressor(smf.ols, \"Salary ~ Age + Gender + C(Education_level) + Years_of_Experience + Age:Years_of_Experience\")"
   ]
  },
  {
   "cell_type": "code",
   "execution_count": 52,
   "id": "a71d8658",
   "metadata": {},
   "outputs": [
    {
     "name": "stdout",
     "output_type": "stream",
     "text": [
      "fold 1, train data rows: 259, test data rows: 65\n",
      "fold 2, train data rows: 259, test data rows: 65\n",
      "fold 3, train data rows: 259, test data rows: 65\n",
      "fold 4, train data rows: 259, test data rows: 65\n",
      "fold 5, train data rows: 260, test data rows: 64\n"
     ]
    }
   ],
   "source": [
    "#Data Splitting Results\n",
    "fold_train, fold_test = kfold_split(data = df_salary, n_fold=5)"
   ]
  },
  {
   "cell_type": "code",
   "execution_count": 53,
   "id": "00037f2a",
   "metadata": {},
   "outputs": [
    {
     "data": {
      "text/html": [
       "<div>\n",
       "<style scoped>\n",
       "    .dataframe tbody tr th:only-of-type {\n",
       "        vertical-align: middle;\n",
       "    }\n",
       "\n",
       "    .dataframe tbody tr th {\n",
       "        vertical-align: top;\n",
       "    }\n",
       "\n",
       "    .dataframe thead th {\n",
       "        text-align: right;\n",
       "    }\n",
       "</style>\n",
       "<table border=\"1\" class=\"dataframe\">\n",
       "  <thead>\n",
       "    <tr style=\"text-align: right;\">\n",
       "      <th></th>\n",
       "      <th>Age</th>\n",
       "      <th>Gender</th>\n",
       "      <th>Education_level</th>\n",
       "      <th>Years_of_Experience</th>\n",
       "      <th>Salary</th>\n",
       "    </tr>\n",
       "  </thead>\n",
       "  <tbody>\n",
       "    <tr>\n",
       "      <th>0</th>\n",
       "      <td>32.0</td>\n",
       "      <td>0</td>\n",
       "      <td>0</td>\n",
       "      <td>5.0</td>\n",
       "      <td>90000.0</td>\n",
       "    </tr>\n",
       "    <tr>\n",
       "      <th>1</th>\n",
       "      <td>28.0</td>\n",
       "      <td>1</td>\n",
       "      <td>1</td>\n",
       "      <td>3.0</td>\n",
       "      <td>65000.0</td>\n",
       "    </tr>\n",
       "    <tr>\n",
       "      <th>2</th>\n",
       "      <td>45.0</td>\n",
       "      <td>0</td>\n",
       "      <td>2</td>\n",
       "      <td>15.0</td>\n",
       "      <td>150000.0</td>\n",
       "    </tr>\n",
       "    <tr>\n",
       "      <th>3</th>\n",
       "      <td>36.0</td>\n",
       "      <td>1</td>\n",
       "      <td>0</td>\n",
       "      <td>7.0</td>\n",
       "      <td>60000.0</td>\n",
       "    </tr>\n",
       "    <tr>\n",
       "      <th>4</th>\n",
       "      <td>52.0</td>\n",
       "      <td>0</td>\n",
       "      <td>1</td>\n",
       "      <td>20.0</td>\n",
       "      <td>200000.0</td>\n",
       "    </tr>\n",
       "    <tr>\n",
       "      <th>...</th>\n",
       "      <td>...</td>\n",
       "      <td>...</td>\n",
       "      <td>...</td>\n",
       "      <td>...</td>\n",
       "      <td>...</td>\n",
       "    </tr>\n",
       "    <tr>\n",
       "      <th>348</th>\n",
       "      <td>28.0</td>\n",
       "      <td>1</td>\n",
       "      <td>0</td>\n",
       "      <td>1.0</td>\n",
       "      <td>35000.0</td>\n",
       "    </tr>\n",
       "    <tr>\n",
       "      <th>349</th>\n",
       "      <td>36.0</td>\n",
       "      <td>0</td>\n",
       "      <td>0</td>\n",
       "      <td>8.0</td>\n",
       "      <td>110000.0</td>\n",
       "    </tr>\n",
       "    <tr>\n",
       "      <th>350</th>\n",
       "      <td>44.0</td>\n",
       "      <td>1</td>\n",
       "      <td>2</td>\n",
       "      <td>16.0</td>\n",
       "      <td>160000.0</td>\n",
       "    </tr>\n",
       "    <tr>\n",
       "      <th>351</th>\n",
       "      <td>31.0</td>\n",
       "      <td>0</td>\n",
       "      <td>0</td>\n",
       "      <td>3.0</td>\n",
       "      <td>55000.0</td>\n",
       "    </tr>\n",
       "    <tr>\n",
       "      <th>371</th>\n",
       "      <td>43.0</td>\n",
       "      <td>0</td>\n",
       "      <td>1</td>\n",
       "      <td>19.0</td>\n",
       "      <td>170000.0</td>\n",
       "    </tr>\n",
       "  </tbody>\n",
       "</table>\n",
       "<p>259 rows × 5 columns</p>\n",
       "</div>"
      ],
      "text/plain": [
       "      Age  Gender  Education_level  Years_of_Experience    Salary\n",
       "0    32.0       0                0                  5.0   90000.0\n",
       "1    28.0       1                1                  3.0   65000.0\n",
       "2    45.0       0                2                 15.0  150000.0\n",
       "3    36.0       1                0                  7.0   60000.0\n",
       "4    52.0       0                1                 20.0  200000.0\n",
       "..    ...     ...              ...                  ...       ...\n",
       "348  28.0       1                0                  1.0   35000.0\n",
       "349  36.0       0                0                  8.0  110000.0\n",
       "350  44.0       1                2                 16.0  160000.0\n",
       "351  31.0       0                0                  3.0   55000.0\n",
       "371  43.0       0                1                 19.0  170000.0\n",
       "\n",
       "[259 rows x 5 columns]"
      ]
     },
     "execution_count": 53,
     "metadata": {},
     "output_type": "execute_result"
    }
   ],
   "source": [
    "fold_train[0]"
   ]
  },
  {
   "cell_type": "code",
   "execution_count": 54,
   "id": "672b9c91",
   "metadata": {},
   "outputs": [
    {
     "data": {
      "text/html": [
       "<div>\n",
       "<style scoped>\n",
       "    .dataframe tbody tr th:only-of-type {\n",
       "        vertical-align: middle;\n",
       "    }\n",
       "\n",
       "    .dataframe tbody tr th {\n",
       "        vertical-align: top;\n",
       "    }\n",
       "\n",
       "    .dataframe thead th {\n",
       "        text-align: right;\n",
       "    }\n",
       "</style>\n",
       "<table border=\"1\" class=\"dataframe\">\n",
       "  <thead>\n",
       "    <tr style=\"text-align: right;\">\n",
       "      <th></th>\n",
       "      <th>Age</th>\n",
       "      <th>Gender</th>\n",
       "      <th>Education_level</th>\n",
       "      <th>Years_of_Experience</th>\n",
       "      <th>Salary</th>\n",
       "    </tr>\n",
       "  </thead>\n",
       "  <tbody>\n",
       "    <tr>\n",
       "      <th>11</th>\n",
       "      <td>48.0</td>\n",
       "      <td>1</td>\n",
       "      <td>0</td>\n",
       "      <td>18.0</td>\n",
       "      <td>140000.0</td>\n",
       "    </tr>\n",
       "    <tr>\n",
       "      <th>12</th>\n",
       "      <td>35.0</td>\n",
       "      <td>0</td>\n",
       "      <td>0</td>\n",
       "      <td>6.0</td>\n",
       "      <td>65000.0</td>\n",
       "    </tr>\n",
       "    <tr>\n",
       "      <th>19</th>\n",
       "      <td>51.0</td>\n",
       "      <td>0</td>\n",
       "      <td>0</td>\n",
       "      <td>22.0</td>\n",
       "      <td>180000.0</td>\n",
       "    </tr>\n",
       "    <tr>\n",
       "      <th>20</th>\n",
       "      <td>34.0</td>\n",
       "      <td>1</td>\n",
       "      <td>1</td>\n",
       "      <td>5.0</td>\n",
       "      <td>80000.0</td>\n",
       "    </tr>\n",
       "    <tr>\n",
       "      <th>26</th>\n",
       "      <td>37.0</td>\n",
       "      <td>1</td>\n",
       "      <td>1</td>\n",
       "      <td>11.0</td>\n",
       "      <td>110000.0</td>\n",
       "    </tr>\n",
       "    <tr>\n",
       "      <th>...</th>\n",
       "      <td>...</td>\n",
       "      <td>...</td>\n",
       "      <td>...</td>\n",
       "      <td>...</td>\n",
       "      <td>...</td>\n",
       "    </tr>\n",
       "    <tr>\n",
       "      <th>327</th>\n",
       "      <td>32.0</td>\n",
       "      <td>0</td>\n",
       "      <td>0</td>\n",
       "      <td>3.0</td>\n",
       "      <td>55000.0</td>\n",
       "    </tr>\n",
       "    <tr>\n",
       "      <th>333</th>\n",
       "      <td>33.0</td>\n",
       "      <td>0</td>\n",
       "      <td>0</td>\n",
       "      <td>4.0</td>\n",
       "      <td>60000.0</td>\n",
       "    </tr>\n",
       "    <tr>\n",
       "      <th>339</th>\n",
       "      <td>33.0</td>\n",
       "      <td>0</td>\n",
       "      <td>0</td>\n",
       "      <td>5.0</td>\n",
       "      <td>70000.0</td>\n",
       "    </tr>\n",
       "    <tr>\n",
       "      <th>341</th>\n",
       "      <td>43.0</td>\n",
       "      <td>0</td>\n",
       "      <td>1</td>\n",
       "      <td>18.0</td>\n",
       "      <td>170000.0</td>\n",
       "    </tr>\n",
       "    <tr>\n",
       "      <th>343</th>\n",
       "      <td>41.0</td>\n",
       "      <td>0</td>\n",
       "      <td>0</td>\n",
       "      <td>14.0</td>\n",
       "      <td>150000.0</td>\n",
       "    </tr>\n",
       "  </tbody>\n",
       "</table>\n",
       "<p>65 rows × 5 columns</p>\n",
       "</div>"
      ],
      "text/plain": [
       "      Age  Gender  Education_level  Years_of_Experience    Salary\n",
       "11   48.0       1                0                 18.0  140000.0\n",
       "12   35.0       0                0                  6.0   65000.0\n",
       "19   51.0       0                0                 22.0  180000.0\n",
       "20   34.0       1                1                  5.0   80000.0\n",
       "26   37.0       1                1                 11.0  110000.0\n",
       "..    ...     ...              ...                  ...       ...\n",
       "327  32.0       0                0                  3.0   55000.0\n",
       "333  33.0       0                0                  4.0   60000.0\n",
       "339  33.0       0                0                  5.0   70000.0\n",
       "341  43.0       0                1                 18.0  170000.0\n",
       "343  41.0       0                0                 14.0  150000.0\n",
       "\n",
       "[65 rows x 5 columns]"
      ]
     },
     "execution_count": 54,
     "metadata": {},
     "output_type": "execute_result"
    }
   ],
   "source": [
    "fold_test[0]"
   ]
  },
  {
   "cell_type": "code",
   "execution_count": 55,
   "id": "fa6d8407",
   "metadata": {},
   "outputs": [
    {
     "data": {
      "text/html": [
       "<div>\n",
       "<style scoped>\n",
       "    .dataframe tbody tr th:only-of-type {\n",
       "        vertical-align: middle;\n",
       "    }\n",
       "\n",
       "    .dataframe tbody tr th {\n",
       "        vertical-align: top;\n",
       "    }\n",
       "\n",
       "    .dataframe thead th {\n",
       "        text-align: right;\n",
       "    }\n",
       "</style>\n",
       "<table border=\"1\" class=\"dataframe\">\n",
       "  <thead>\n",
       "    <tr style=\"text-align: right;\">\n",
       "      <th></th>\n",
       "      <th>test_rsquared</th>\n",
       "      <th>folds</th>\n",
       "    </tr>\n",
       "  </thead>\n",
       "  <tbody>\n",
       "    <tr>\n",
       "      <th>0</th>\n",
       "      <td>0.892141</td>\n",
       "      <td>Folds 1</td>\n",
       "    </tr>\n",
       "    <tr>\n",
       "      <th>1</th>\n",
       "      <td>0.902729</td>\n",
       "      <td>Folds 2</td>\n",
       "    </tr>\n",
       "    <tr>\n",
       "      <th>2</th>\n",
       "      <td>0.912515</td>\n",
       "      <td>Folds 3</td>\n",
       "    </tr>\n",
       "    <tr>\n",
       "      <th>3</th>\n",
       "      <td>0.825113</td>\n",
       "      <td>Folds 4</td>\n",
       "    </tr>\n",
       "    <tr>\n",
       "      <th>4</th>\n",
       "      <td>0.897267</td>\n",
       "      <td>Folds 5</td>\n",
       "    </tr>\n",
       "  </tbody>\n",
       "</table>\n",
       "</div>"
      ],
      "text/plain": [
       "   test_rsquared    folds\n",
       "0       0.892141  Folds 1\n",
       "1       0.902729  Folds 2\n",
       "2       0.912515  Folds 3\n",
       "3       0.825113  Folds 4\n",
       "4       0.897267  Folds 5"
      ]
     },
     "execution_count": 55,
     "metadata": {},
     "output_type": "execute_result"
    }
   ],
   "source": [
    "# Create k-fold splitter object\n",
    "kfold = KFold(n_splits=5, shuffle = True, random_state=123)\n",
    "\n",
    "scores_ols_all_pred = cross_val_score(estimator = ols_all_pred,\n",
    "                                       X = df_salary,\n",
    "                                       y = df_salary[\"Salary\"],\n",
    "                                       cv = kfold,\n",
    "                                       scoring = \"r2\")\n",
    "\n",
    "scores_ols_all_pred = pd.DataFrame(data = scores_ols_all_pred, \n",
    "                                    columns=[\"test_rsquared\"])\n",
    "\n",
    "scores_ols_all_pred[\"folds\"] = [f\"Folds {i+1}\" for i in range(5)]\n",
    "scores_ols_all_pred"
   ]
  },
  {
   "cell_type": "code",
   "execution_count": 56,
   "id": "0f374afd",
   "metadata": {},
   "outputs": [
    {
     "data": {
      "text/plain": [
       "0.8859529642576712"
      ]
     },
     "execution_count": 56,
     "metadata": {},
     "output_type": "execute_result"
    }
   ],
   "source": [
    "scores_ols_all_pred[\"test_rsquared\"].mean()"
   ]
  },
  {
   "cell_type": "markdown",
   "id": "88c2a375",
   "metadata": {},
   "source": [
    "Model yang menggunakan semua media memiliki kecocokan yang baik, model ini dapat menjelaskan 88,59% varians gaji. Mari kita bangun model dengan menggunakan seluruh data untuk menyimpulkan estimasi koefisien dari model, dan mendapatkan wawasan dari prespektif bisnis"
   ]
  },
  {
   "cell_type": "markdown",
   "id": "011dd920",
   "metadata": {},
   "source": [
    "## Fit Linear Regression - Using All Predictors"
   ]
  },
  {
   "cell_type": "code",
   "execution_count": 59,
   "id": "f5b860fa",
   "metadata": {},
   "outputs": [
    {
     "data": {
      "text/html": [
       "<div>\n",
       "<style scoped>\n",
       "    .dataframe tbody tr th:only-of-type {\n",
       "        vertical-align: middle;\n",
       "    }\n",
       "\n",
       "    .dataframe tbody tr th {\n",
       "        vertical-align: top;\n",
       "    }\n",
       "\n",
       "    .dataframe thead th {\n",
       "        text-align: right;\n",
       "    }\n",
       "</style>\n",
       "<table border=\"1\" class=\"dataframe\">\n",
       "  <thead>\n",
       "    <tr style=\"text-align: right;\">\n",
       "      <th></th>\n",
       "      <th>coef</th>\n",
       "      <th>std err</th>\n",
       "    </tr>\n",
       "  </thead>\n",
       "  <tbody>\n",
       "    <tr>\n",
       "      <th>Intercept</th>\n",
       "      <td>-44159.185552</td>\n",
       "      <td>16580.736611</td>\n",
       "    </tr>\n",
       "    <tr>\n",
       "      <th>C(Education_level)[T.1]</th>\n",
       "      <td>19574.074815</td>\n",
       "      <td>2257.344892</td>\n",
       "    </tr>\n",
       "    <tr>\n",
       "      <th>C(Education_level)[T.2]</th>\n",
       "      <td>26339.473807</td>\n",
       "      <td>3160.610738</td>\n",
       "    </tr>\n",
       "    <tr>\n",
       "      <th>Age</th>\n",
       "      <td>3042.039143</td>\n",
       "      <td>611.919060</td>\n",
       "    </tr>\n",
       "    <tr>\n",
       "      <th>Gender</th>\n",
       "      <td>-9310.571777</td>\n",
       "      <td>1766.475849</td>\n",
       "    </tr>\n",
       "    <tr>\n",
       "      <th>Years_of_Experience</th>\n",
       "      <td>2433.641886</td>\n",
       "      <td>1211.995905</td>\n",
       "    </tr>\n",
       "    <tr>\n",
       "      <th>Age:Years_of_Experience</th>\n",
       "      <td>3.452762</td>\n",
       "      <td>21.044653</td>\n",
       "    </tr>\n",
       "  </tbody>\n",
       "</table>\n",
       "</div>"
      ],
      "text/plain": [
       "                                 coef       std err\n",
       "Intercept               -44159.185552  16580.736611\n",
       "C(Education_level)[T.1]  19574.074815   2257.344892\n",
       "C(Education_level)[T.2]  26339.473807   3160.610738\n",
       "Age                       3042.039143    611.919060\n",
       "Gender                   -9310.571777   1766.475849\n",
       "Years_of_Experience       2433.641886   1211.995905\n",
       "Age:Years_of_Experience      3.452762     21.044653"
      ]
     },
     "execution_count": 59,
     "metadata": {},
     "output_type": "execute_result"
    }
   ],
   "source": [
    "# Create OLS model object\n",
    "model = smf.ols(\"Salary ~ Age + Gender + C(Education_level) + Years_of_Experience + Age:Years_of_Experience\", df_salary)\n",
    "\n",
    "# Fit the model\n",
    "results_model_salary = model.fit()\n",
    "\n",
    "# Extract the results (Coefficient and Standard Error) to DataFrame\n",
    "results_salary = print_coef_std_err(results_model_salary)\n",
    "results_salary"
   ]
  },
  {
   "cell_type": "markdown",
   "id": "6f3f428c",
   "metadata": {},
   "source": [
    "Nilai intercept negatif sehingga kurang bermakna."
   ]
  },
  {
   "cell_type": "markdown",
   "id": "ec3d1817",
   "metadata": {},
   "source": [
    "### Melakukan Centering Predictor Age"
   ]
  },
  {
   "cell_type": "markdown",
   "id": "a74e05d4",
   "metadata": {},
   "source": [
    "Centering dilakukan agar interpretasi hasil regresi lebih baik"
   ]
  },
  {
   "cell_type": "code",
   "execution_count": 60,
   "id": "d4629a31",
   "metadata": {},
   "outputs": [
    {
     "data": {
      "text/plain": [
       "37.0"
      ]
     },
     "execution_count": 60,
     "metadata": {},
     "output_type": "execute_result"
    }
   ],
   "source": [
    "mean_age = df_salary[\"Age\"].mean()\n",
    "mean_age = np.round(mean_age,0)\n",
    "mean_age"
   ]
  },
  {
   "cell_type": "code",
   "execution_count": 61,
   "id": "61b4a2b4",
   "metadata": {},
   "outputs": [
    {
     "data": {
      "text/html": [
       "<div>\n",
       "<style scoped>\n",
       "    .dataframe tbody tr th:only-of-type {\n",
       "        vertical-align: middle;\n",
       "    }\n",
       "\n",
       "    .dataframe tbody tr th {\n",
       "        vertical-align: top;\n",
       "    }\n",
       "\n",
       "    .dataframe thead th {\n",
       "        text-align: right;\n",
       "    }\n",
       "</style>\n",
       "<table border=\"1\" class=\"dataframe\">\n",
       "  <thead>\n",
       "    <tr style=\"text-align: right;\">\n",
       "      <th></th>\n",
       "      <th>Age_Centered</th>\n",
       "      <th>Gender</th>\n",
       "      <th>Education_level</th>\n",
       "      <th>Years_of_Experience</th>\n",
       "      <th>Salary</th>\n",
       "    </tr>\n",
       "  </thead>\n",
       "  <tbody>\n",
       "    <tr>\n",
       "      <th>0</th>\n",
       "      <td>-5.0</td>\n",
       "      <td>0</td>\n",
       "      <td>0</td>\n",
       "      <td>5.0</td>\n",
       "      <td>90000.0</td>\n",
       "    </tr>\n",
       "    <tr>\n",
       "      <th>1</th>\n",
       "      <td>-9.0</td>\n",
       "      <td>1</td>\n",
       "      <td>1</td>\n",
       "      <td>3.0</td>\n",
       "      <td>65000.0</td>\n",
       "    </tr>\n",
       "    <tr>\n",
       "      <th>2</th>\n",
       "      <td>8.0</td>\n",
       "      <td>0</td>\n",
       "      <td>2</td>\n",
       "      <td>15.0</td>\n",
       "      <td>150000.0</td>\n",
       "    </tr>\n",
       "    <tr>\n",
       "      <th>3</th>\n",
       "      <td>-1.0</td>\n",
       "      <td>1</td>\n",
       "      <td>0</td>\n",
       "      <td>7.0</td>\n",
       "      <td>60000.0</td>\n",
       "    </tr>\n",
       "    <tr>\n",
       "      <th>4</th>\n",
       "      <td>15.0</td>\n",
       "      <td>0</td>\n",
       "      <td>1</td>\n",
       "      <td>20.0</td>\n",
       "      <td>200000.0</td>\n",
       "    </tr>\n",
       "  </tbody>\n",
       "</table>\n",
       "</div>"
      ],
      "text/plain": [
       "   Age_Centered  Gender  Education_level  Years_of_Experience    Salary\n",
       "0          -5.0       0                0                  5.0   90000.0\n",
       "1          -9.0       1                1                  3.0   65000.0\n",
       "2           8.0       0                2                 15.0  150000.0\n",
       "3          -1.0       1                0                  7.0   60000.0\n",
       "4          15.0       0                1                 20.0  200000.0"
      ]
     },
     "execution_count": 61,
     "metadata": {},
     "output_type": "execute_result"
    }
   ],
   "source": [
    "df_salary[\"Age\"] = df_salary[\"Age\"]-mean_age\n",
    "df_salary.rename(columns = {\"Age\":\"Age_Centered\"}, inplace=True)\n",
    "df_salary.head()"
   ]
  },
  {
   "cell_type": "code",
   "execution_count": 62,
   "id": "36925354",
   "metadata": {},
   "outputs": [
    {
     "data": {
      "text/html": [
       "<div>\n",
       "<style scoped>\n",
       "    .dataframe tbody tr th:only-of-type {\n",
       "        vertical-align: middle;\n",
       "    }\n",
       "\n",
       "    .dataframe tbody tr th {\n",
       "        vertical-align: top;\n",
       "    }\n",
       "\n",
       "    .dataframe thead th {\n",
       "        text-align: right;\n",
       "    }\n",
       "</style>\n",
       "<table border=\"1\" class=\"dataframe\">\n",
       "  <thead>\n",
       "    <tr style=\"text-align: right;\">\n",
       "      <th></th>\n",
       "      <th>test_rsquared</th>\n",
       "      <th>folds</th>\n",
       "    </tr>\n",
       "  </thead>\n",
       "  <tbody>\n",
       "    <tr>\n",
       "      <th>0</th>\n",
       "      <td>0.849681</td>\n",
       "      <td>Folds 1</td>\n",
       "    </tr>\n",
       "    <tr>\n",
       "      <th>1</th>\n",
       "      <td>0.907836</td>\n",
       "      <td>Folds 2</td>\n",
       "    </tr>\n",
       "    <tr>\n",
       "      <th>2</th>\n",
       "      <td>0.873470</td>\n",
       "      <td>Folds 3</td>\n",
       "    </tr>\n",
       "    <tr>\n",
       "      <th>3</th>\n",
       "      <td>0.938117</td>\n",
       "      <td>Folds 4</td>\n",
       "    </tr>\n",
       "    <tr>\n",
       "      <th>4</th>\n",
       "      <td>0.881399</td>\n",
       "      <td>Folds 5</td>\n",
       "    </tr>\n",
       "  </tbody>\n",
       "</table>\n",
       "</div>"
      ],
      "text/plain": [
       "   test_rsquared    folds\n",
       "0       0.849681  Folds 1\n",
       "1       0.907836  Folds 2\n",
       "2       0.873470  Folds 3\n",
       "3       0.938117  Folds 4\n",
       "4       0.881399  Folds 5"
      ]
     },
     "execution_count": 62,
     "metadata": {},
     "output_type": "execute_result"
    }
   ],
   "source": [
    "# Create a class model\n",
    "ols_all_pred = StatsmodelsRegressor(smf.ols, \"Salary ~ Age_Centered + Gender + C(Education_level) + Years_of_Experience + Age_Centered:Years_of_Experience\")\n",
    "\n",
    "# Create k-fold splitter object\n",
    "kfold = KFold(n_splits=5, shuffle = True, random_state=12)\n",
    "\n",
    "scores_ols_all_pred = cross_val_score(estimator = ols_all_pred,\n",
    "                                       X = df_salary,\n",
    "                                       y = df_salary[\"Salary\"],\n",
    "                                       cv = kfold,\n",
    "                                       scoring = \"r2\")\n",
    "scores_ols_all_pred = pd.DataFrame(data = scores_ols_all_pred, \n",
    "                                    columns=[\"test_rsquared\"])\n",
    "scores_ols_all_pred[\"folds\"] = [f\"Folds {i+1}\" for i in range(5)]\n",
    "scores_ols_all_pred"
   ]
  },
  {
   "cell_type": "code",
   "execution_count": 63,
   "id": "6e4b8123",
   "metadata": {},
   "outputs": [
    {
     "data": {
      "text/plain": [
       "0.8901007028969223"
      ]
     },
     "execution_count": 63,
     "metadata": {},
     "output_type": "execute_result"
    }
   ],
   "source": [
    "scores_ols_all_pred[\"test_rsquared\"].mean()"
   ]
  },
  {
   "cell_type": "markdown",
   "id": "0175d65c",
   "metadata": {},
   "source": [
    "Model yang menggunakan semua media memiliki kecocokan yang baik, model ini dapat menjelaskan 89% varians gaji. Mari kita bangun model dengan menggunakan seluruh data untuk menyimpulkan estimasi koefisien dari model, dan mendapatkan wawasan dari prespektif bisnis"
   ]
  },
  {
   "cell_type": "code",
   "execution_count": 64,
   "id": "b11c1c31",
   "metadata": {},
   "outputs": [
    {
     "data": {
      "text/html": [
       "<div>\n",
       "<style scoped>\n",
       "    .dataframe tbody tr th:only-of-type {\n",
       "        vertical-align: middle;\n",
       "    }\n",
       "\n",
       "    .dataframe tbody tr th {\n",
       "        vertical-align: top;\n",
       "    }\n",
       "\n",
       "    .dataframe thead th {\n",
       "        text-align: right;\n",
       "    }\n",
       "</style>\n",
       "<table border=\"1\" class=\"dataframe\">\n",
       "  <thead>\n",
       "    <tr style=\"text-align: right;\">\n",
       "      <th></th>\n",
       "      <th>coef</th>\n",
       "      <th>std err</th>\n",
       "    </tr>\n",
       "  </thead>\n",
       "  <tbody>\n",
       "    <tr>\n",
       "      <th>Intercept</th>\n",
       "      <td>68396.262743</td>\n",
       "      <td>6722.803498</td>\n",
       "    </tr>\n",
       "    <tr>\n",
       "      <th>C(Education_level)[T.1]</th>\n",
       "      <td>19574.074815</td>\n",
       "      <td>2257.344892</td>\n",
       "    </tr>\n",
       "    <tr>\n",
       "      <th>C(Education_level)[T.2]</th>\n",
       "      <td>26339.473807</td>\n",
       "      <td>3160.610738</td>\n",
       "    </tr>\n",
       "    <tr>\n",
       "      <th>Age_Centered</th>\n",
       "      <td>3042.039143</td>\n",
       "      <td>611.919060</td>\n",
       "    </tr>\n",
       "    <tr>\n",
       "      <th>Gender</th>\n",
       "      <td>-9310.571777</td>\n",
       "      <td>1766.475849</td>\n",
       "    </tr>\n",
       "    <tr>\n",
       "      <th>Years_of_Experience</th>\n",
       "      <td>2561.394070</td>\n",
       "      <td>714.405923</td>\n",
       "    </tr>\n",
       "    <tr>\n",
       "      <th>Age_Centered:Years_of_Experience</th>\n",
       "      <td>3.452762</td>\n",
       "      <td>21.044653</td>\n",
       "    </tr>\n",
       "  </tbody>\n",
       "</table>\n",
       "</div>"
      ],
      "text/plain": [
       "                                          coef      std err\n",
       "Intercept                         68396.262743  6722.803498\n",
       "C(Education_level)[T.1]           19574.074815  2257.344892\n",
       "C(Education_level)[T.2]           26339.473807  3160.610738\n",
       "Age_Centered                       3042.039143   611.919060\n",
       "Gender                            -9310.571777  1766.475849\n",
       "Years_of_Experience                2561.394070   714.405923\n",
       "Age_Centered:Years_of_Experience      3.452762    21.044653"
      ]
     },
     "execution_count": 64,
     "metadata": {},
     "output_type": "execute_result"
    }
   ],
   "source": [
    "# Create OLS model object\n",
    "model = smf.ols('Salary ~ Age_Centered + Gender + C(Education_level) + Years_of_Experience + Age_Centered:Years_of_Experience', df_salary)\n",
    "\n",
    "# Fit the model\n",
    "results = model.fit()\n",
    "\n",
    "# Extract the results (Coefficient and Standard Error) to DataFrame\n",
    "results_salary = print_coef_std_err(results)\n",
    "results_salary"
   ]
  },
  {
   "cell_type": "markdown",
   "id": "91462f4f",
   "metadata": {},
   "source": [
    "$$\\text{Salary for Bachelor's} = 68396 + 3042\\times\\text{(Age - 37)} - 9311\\times\\text{Gender} + 2561\\times\\text{Years_of_Experience} + 3\\times\\text{(Age - 37)}\\times\\text{Years_of_Experience} $$"
   ]
  },
  {
   "cell_type": "markdown",
   "id": "4cece49a",
   "metadata": {},
   "source": [
    "$$\\text{Salary for Master's} = 68396+ 19574 + 3042\\times\\text{(Age - 37)} - 9311\\times\\text{Gender} + 2561\\times\\text{Years_of_Experience} + 3\\times\\text{(Age - 37)}\\times\\text{Years_of_Experience} $$"
   ]
  },
  {
   "cell_type": "markdown",
   "id": "92c89842",
   "metadata": {},
   "source": [
    "$$\\text{Salary for PhD} = 68396 + 26339 + 3042\\times\\text{(Age - 37)} - 9311\\times\\text{Gender} + 2561\\times\\text{Years_of_Experience} + 3\\times\\text{(Age - 37)}\\times\\text{Years_of_Experience} $$"
   ]
  },
  {
   "cell_type": "markdown",
   "id": "b0957a4d",
   "metadata": {},
   "source": [
    "**Interpretasi tingkat pendidikan**"
   ]
  },
  {
   "cell_type": "markdown",
   "id": "5caa20b8",
   "metadata": {},
   "source": [
    "Jika mengamati dua individu dengan usia, jenis kelamin, dan lama pengalaman kerja yang identik, perkiraan gaji seseorang yang memiliki gelar Master's diperkirakan lebih tinggi sebesar 19574 dolar dibandingkan dengan individu yang memiliki gelar Bachelor's."
   ]
  },
  {
   "cell_type": "markdown",
   "id": "2e32c301",
   "metadata": {},
   "source": [
    "Kemudian jika mengamati dua individu dengan usia, jenis kelamin, dan lama pengalaman kerja yang identik, perkiraan gaji seseorang yang memiliki gelar PhD diperkirakan lebih tinggi sebesar 26339 dolar dibandingkan dengan individu yang memiliki gelar Bachelor's."
   ]
  },
  {
   "cell_type": "markdown",
   "id": "6f0c71b6",
   "metadata": {},
   "source": [
    "**Interpretasi usia**"
   ]
  },
  {
   "cell_type": "markdown",
   "id": "c44a0f02",
   "metadata": {},
   "source": [
    "Jika mengamati dua individu dengan jenis kelamin dan tingkat pendidikan yang sama, dengan lama pengalaman kerja = 0, perkiraan gaji seseorang yang memiliki usia lebih 1 tahun dari 37 tahun,  diperkirakan lebih tinggi sebesar 3042 dolar dibandingkan dengan individu yang memiliki usia 37 tahun"
   ]
  },
  {
   "cell_type": "markdown",
   "id": "b576ec07",
   "metadata": {},
   "source": [
    "**Interpretasi jenis kelamin**"
   ]
  },
  {
   "cell_type": "markdown",
   "id": "c9b7b230",
   "metadata": {},
   "source": [
    "Jika mengamati dua individu yang memiliki usia, lama pengalaman kerja, dan tingkat pendidikan yang sama, perkiraan gaji seorang perempuan lebih sedikit 9311 dollar dibandingkan dengan seorang laki-laki."
   ]
  },
  {
   "cell_type": "markdown",
   "id": "13f2a967",
   "metadata": {},
   "source": [
    "**Interpretasi lama pengalaman kerja**"
   ]
  },
  {
   "cell_type": "markdown",
   "id": "f0e6129f",
   "metadata": {},
   "source": [
    "jika mengamati dua individu dengan usia = 37 tahun, jenis kelamin, dan tingkat pendidikan yang identik, perkiraan gaji seseorang yang memiliki pengalaman kerja lebih lama 1 tahun diperkirakan lebih tinggi sebesar 2561 dolar."
   ]
  },
  {
   "cell_type": "code",
   "execution_count": 67,
   "id": "5bb1a150",
   "metadata": {},
   "outputs": [
    {
     "data": {
      "text/plain": [
       "Text(0.5, 1.0, 'Residuals vs. Predicted value')"
      ]
     },
     "execution_count": 67,
     "metadata": {},
     "output_type": "execute_result"
    },
    {
     "data": {
      "image/png": "[encoded data removed]",
      "text/plain": [
       "<Figure size 640x480 with 1 Axes>"
      ]
     },
     "metadata": {},
     "output_type": "display_data"
    }
   ],
   "source": [
    "# Residual Plot and Explained Variance\n",
    "plt.scatter(results.fittedvalues, results.resid, marker=\".\", c = \"k\")\n",
    "\n",
    "# Plot the horizontal line in 0 as the fitted line\n",
    "plt.axhline([0])\n",
    "\n",
    "plt.xlabel(\"predicted value\")\n",
    "plt.ylabel(\"residual\")\n",
    "plt.title(f\"Residuals vs. Predicted value\")"
   ]
  },
  {
   "cell_type": "code",
   "execution_count": 68,
   "id": "247711b6",
   "metadata": {},
   "outputs": [
    {
     "data": {
      "image/png": "[encoded data removed]",
      "text/plain": [
       "<Figure size 640x480 with 1 Axes>"
      ]
     },
     "metadata": {},
     "output_type": "display_data"
    }
   ],
   "source": [
    "# Normality of Error Assumption\n",
    "\n",
    "plt.hist(results.resid, color='tab:blue', alpha=0.4)\n",
    "plt.xlabel(\"residual\")\n",
    "plt.ylabel(\"count\")\n",
    "\n",
    "plt.show()"
   ]
  }
 ],
 "metadata": {
  "kernelspec": {
   "display_name": "Python 3 (ipykernel)",
   "language": "python",
   "name": "python3"
  },
  "language_info": {
   "codemirror_mode": {
    "name": "ipython",
    "version": 3
   },
   "file_extension": ".py",
   "mimetype": "text/x-python",
   "name": "python",
   "nbconvert_exporter": "python",
   "pygments_lexer": "ipython3",
   "version": "3.8.18"
  }
 },
 "nbformat": 4,
 "nbformat_minor": 5
}
